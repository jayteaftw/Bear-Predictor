{
  "nbformat": 4,
  "nbformat_minor": 0,
  "metadata": {
    "colab": {
      "name": "BearPredictor.ipynb",
      "provenance": []
    },
    "kernelspec": {
      "name": "python3",
      "display_name": "Python 3"
    },
    "language_info": {
      "name": "python"
    },
    "accelerator": "GPU",
    "widgets": {
      "application/vnd.jupyter.widget-state+json": {
        "4e28d1ed90a64380ae301548d8221143": {
          "model_module": "@jupyter-widgets/controls",
          "model_name": "VBoxModel",
          "state": {
            "_view_name": "VBoxView",
            "_dom_classes": [],
            "_model_name": "VBoxModel",
            "_view_module": "@jupyter-widgets/controls",
            "_model_module_version": "1.5.0",
            "_view_count": null,
            "_view_module_version": "1.5.0",
            "box_style": "",
            "layout": "IPY_MODEL_72e3116ac2ce4693ba3652889056264d",
            "_model_module": "@jupyter-widgets/controls",
            "children": [
              "IPY_MODEL_d3e155dbd3034ed5bdd9b36dd920cf0c",
              "IPY_MODEL_02681eb01cda4ca6b54166b3a2dfeb71",
              "IPY_MODEL_2d6c58c0b1284865ad3343eadf41087c",
              "IPY_MODEL_b65d8324155d41a391897ffa849f3eb4",
              "IPY_MODEL_792b08bddc7046f9a8b19e5d5fa36a24"
            ]
          }
        },
        "72e3116ac2ce4693ba3652889056264d": {
          "model_module": "@jupyter-widgets/base",
          "model_name": "LayoutModel",
          "state": {
            "_view_name": "LayoutView",
            "grid_template_rows": null,
            "right": null,
            "justify_content": null,
            "_view_module": "@jupyter-widgets/base",
            "overflow": null,
            "_model_module_version": "1.2.0",
            "_view_count": null,
            "flex_flow": null,
            "width": null,
            "min_width": null,
            "border": null,
            "align_items": null,
            "bottom": null,
            "_model_module": "@jupyter-widgets/base",
            "top": null,
            "grid_column": null,
            "overflow_y": null,
            "overflow_x": null,
            "grid_auto_flow": null,
            "grid_area": null,
            "grid_template_columns": null,
            "flex": null,
            "_model_name": "LayoutModel",
            "justify_items": null,
            "grid_row": null,
            "max_height": null,
            "align_content": null,
            "visibility": null,
            "align_self": null,
            "height": null,
            "min_height": null,
            "padding": null,
            "grid_auto_rows": null,
            "grid_gap": null,
            "max_width": null,
            "order": null,
            "_view_module_version": "1.2.0",
            "grid_template_areas": null,
            "object_position": null,
            "object_fit": null,
            "grid_auto_columns": null,
            "margin": null,
            "display": null,
            "left": null
          }
        },
        "d3e155dbd3034ed5bdd9b36dd920cf0c": {
          "model_module": "@jupyter-widgets/controls",
          "model_name": "LabelModel",
          "state": {
            "_view_name": "LabelView",
            "style": "IPY_MODEL_9ba3c0b4c8ae498c987b9cfae3de75b5",
            "_dom_classes": [],
            "description": "",
            "_model_name": "LabelModel",
            "placeholder": "​",
            "_view_module": "@jupyter-widgets/controls",
            "_model_module_version": "1.5.0",
            "value": "Select your bear!",
            "_view_count": null,
            "_view_module_version": "1.5.0",
            "description_tooltip": null,
            "_model_module": "@jupyter-widgets/controls",
            "layout": "IPY_MODEL_b45c23de30a04f7f89db04570ecbdc12"
          }
        },
        "02681eb01cda4ca6b54166b3a2dfeb71": {
          "model_module": "@jupyter-widgets/controls",
          "model_name": "FileUploadModel",
          "state": {
            "_view_name": "FileUploadView",
            "_counter": 1,
            "style": "IPY_MODEL_30bf762f7c4d4dcc93611446249be4bc",
            "_dom_classes": [],
            "description": "Upload",
            "multiple": false,
            "_model_name": "FileUploadModel",
            "data": [
              null
            ],
            "button_style": "",
            "_view_module": "@jupyter-widgets/controls",
            "_model_module_version": "1.5.0",
            "accept": "",
            "_view_count": null,
            "disabled": false,
            "_view_module_version": "1.5.0",
            "error": "",
            "description_tooltip": null,
            "metadata": [
              {
                "name": "IMG-0129.jpg",
                "type": "image/jpeg",
                "size": 14695,
                "lastModified": 1626151210114
              }
            ],
            "_model_module": "@jupyter-widgets/controls",
            "layout": "IPY_MODEL_4012ca9080314e03b0ac5426a5776b25",
            "icon": "upload"
          }
        },
        "2d6c58c0b1284865ad3343eadf41087c": {
          "model_module": "@jupyter-widgets/controls",
          "model_name": "ButtonModel",
          "state": {
            "_view_name": "ButtonView",
            "style": "IPY_MODEL_1a0c3d74eaa94a82a3301c547bdf3480",
            "_dom_classes": [],
            "description": "Classify",
            "_model_name": "ButtonModel",
            "button_style": "",
            "_view_module": "@jupyter-widgets/controls",
            "_model_module_version": "1.5.0",
            "tooltip": "",
            "_view_count": null,
            "disabled": false,
            "_view_module_version": "1.5.0",
            "layout": "IPY_MODEL_c22ff3627d054eadaf7e35fb7d351294",
            "_model_module": "@jupyter-widgets/controls",
            "icon": ""
          }
        },
        "b65d8324155d41a391897ffa849f3eb4": {
          "model_module": "@jupyter-widgets/output",
          "model_name": "OutputModel",
          "state": {
            "_view_name": "OutputView",
            "msg_id": "",
            "_dom_classes": [],
            "_model_name": "OutputModel",
            "outputs": [
              {
                "output_type": "display_data",
                "metadata": {
                  "tags": []
                },
                "image/png": "iVBORw0KGgoAAAANSUhEUgAAAIAAAABVCAIAAAAOr3sAAABl0ElEQVR4nCX8V89taZKYib12ebf9/vbnzXF5zklfVVlZph3JaXazSfYMOaAAERCk+7mUbnShP6A7YTCCAF1IGHAIUiCHHA7J7unqbnZVV6XPPCeP/bzZfq+9l3ev00X9hYhABPA8EQH/u//2gW2pod877H4ACnpx+mfv/zC/v2uDXM8aa7YmenAUDO6f3iyuxtdxfh10n3z2zSyuJBcVBcLRbQBAzZper1eUJSTo5vbWdhxNM8OoanWtTRyxShiUEJDu71qy+H67a/WCe0j4jjOchoswXs5X8yJnrts7un/8znt7UMtPz06LQuw4x0k4L6JlnsjAP97afef7s9M//eOfZ4vv02axydbPXr1t9QcFT8s6Otr/NC8ioslud8gFefzk0a+/+IUBKs9qXc9Ls9uhnTrip2bAZJ2r0+zk+Adb+97l1d+6bPCk80k+uXz2anYRo633n3b292c315vJRcvHhk0k0H/1n563yNBznU2zePjpu9aw+8s//+Ww0yYaOzzeYqKsmrqsmoP9g68/+0o1PF0XP/joo/Pby6gKP/29H92dcqBML+jmpXh1ejFfrbb391Udb7kEdfXBx0/eabWS0WEErSviyEq2N3J3rAZna3C1yNI0I01yr6v9N7/7YeAaq8VYp5A1lWZoteBF0xBKNUqbponiCGPseZ7v+03TUI1UVc04q+qKc8E5p5T+we///u/93h8KyZNs1Yik3fZOTu5bZs/zdjkQrT4EdHE7ed00sM69ydXy7auXZxcvdDd7/IPO00/awU52Ov6MOFBpKme12xrY3kgzht3+g0Y062h1fXPlOk6Z5f+v/+H/efbybRAYWb2cr66+/PZXd5NLSqlpeIbeTmv9/OIS5nCPnDxwR8n5c7fJ9oZDx7NrVmGMijwfjXZN06ealaxXXJXBXmvGlic/eBCMvJpnrGFNLWzTFxy1/D7g2LOCKEzjKEfQODl5bJidvd1HTWXenGe2Syu2Wm2uz6++00xBNBlt5g0DAnXIjx99ONqtf/Xln788u0ljE7V608S4fctWcU24Ig1+2u2LKik3q0Dv//7PPv7FL8/fXMx13eaSE8NAWKeGsV6HnW73wHUn82mn282yDEJYFLkmAUZQSSW4kJJ98MGHwwH5D//2X0EltwZbWKuiJE9yCbABKTk5GmC9CpOZYWOoOq++G//hRx9+8tHe9fTzj3/63tOPP2JSmzTD1XQWyQh7qqv3KtwY1rC1dYKIKIqp09gd6um6kccZZuqP/ujnmlFghZ8+7F/PV6JqutqWDYzFJvQC5+lhP7utwExL0AqwMbfsOJeKUNd3hWBFWYk8C9q2azgDH7z3cYtprtuScMs6X1wTqPd7A4MadSWvL2fDYe/s9W2v13NclyLbNDvTWaJUy3LbTRH88i/PH77rOK6uVINp1en2oyieTqdPnj6EbkkgW92ezrb7R+NwBjQvLuByU+Zl2W4PFRKlSP/zf/nb9x890CAIz293nowErzCQlm2MlwvXdRsppZRBEKRpqumaruusrrM01U0LAKEAIIRgTCBEEOCb67sv/uqZb9v9nvv9yxcHh0WSgSRDWLd8X/UHwXp1+9EnTx4+PPn6izMuv9ZI/O7Td4T2tmRxVKSTafr1N2/+0T/86aDd2G47TdCv//bmiy9u2ASkRTTso8Gg22t3m7x5cv/Jfr8XLcNBB7cQYRX79OETbIJVNH/7xZs0YbUU7++MunZX+RrBt+Po4iKNdXdXVbxq6t12a39//+Ll69npTacVfHT46HY1/uL12wefPASB03NsEYtU47e3U8vUtkeDq7MJr5EGTd+2Hz/dPju9+fDHP1ZS+9Xffmm5GorF+cXVD374nlQEYzqfLR49eEzxBCj7dhqRdXVRs0Z3OxC2dMtTLCE2aGlq6DgKqNIgL1+9uf3bLxXAgWf98ZbVbnWJVqRVraRUSmEI1uvN1qC3Xq+prnHOdcOQUlZV7flOzTJMkKZRyZWo2c3NWAd4Mllm6boo6uubO8fvmo5nB+idd0fv3Hvv6N4/d10crk7feTD4v/yf/7GYRGl6LURz+mb81Vf/y/cvZ998d6Wp6p//H58qSIPW4NNPP2wqejeZ2lkl6iQJJagAFk60mOpUcRF1LfzR40OBPKQbSbU2WNE+7n779QW0t6kwagjc7fbl4hoc30+SjM+UhFrV8MvLK17XO3u7b68ur8aLp7s/EirZP3yoGVaelh3TX683s8ksXC214ej48MH527d1Xk9v50oIZPDR9pGCmJr6oycPX788F0IY1DPtnmO7nC+nkwhKamvB5O768KlLxvnUMDtRKvJGrSaX1DKH3e0kCS/Pr4hBWv0O9RymUFoIjOjFzfzNeZmXvBTIMmwopKGTWla+7zuO4wfB6cVZuA6lUkAww9SlwkxwqVSZFybFGFPXdn1Hb6pSNziAmGiEWtL1wEfvv7vTPzAwWFyfltWtbELPgBuwSjO8u3PspvpiiYeffrTbfn041P7jv/nFBx9/erjbgrWKZlMT8Wl4sz3YdW0HKd2yutB33775brCtT+bLrZ4zXZ7FeQIIPz7axhL+/s9/+Nmz6d1kDSgH+u3OycF87c434xYKJGBRXMblZNhq+4H//sfvj6fLZ2cXKa9bW7YJGgehyfmbOkINK/cOdnktL86vo01KABW8zOLEgGS0N5qtL5kUGJF7jwPHr5JSGqYDELAc6rr0xYuvwkXjtIxhsEP69x5xrmrGPAvz8drQzCoXUU4YExgqmZdII0SCwMN5uvn2+3nD+1JSJVGSbByTDr0uFmKziQBQVKN5lkMAPc9jnJdVqVs6aDjDwjQtKDgCaHunb2t0crfqtEdCsbRa3U2vRtsfBfo+lPLy7Fd3k6/39ltVWgrgGxpBhHz11cuKdSgZTG5eTW7f7u88IHTwF//2c4Lf9toPZpdzy4GHW1tNwV6fvTg8eASM2rHaH//op3l1Hc7Y199bi001nudlvYL0sG1vn14uOCgE7tJWU8Lx5S08/6quItY60KhhQhPanuU4JmcNxxCZpLXnoGjdcqVGClnmhsoh1YejzrA3Eg20qBUtl69fvf5n//QfeV7vL/7mu9n8rr/f5qCcTMb9Vtc1+5zEZxffD4edZTgvGwZx8/CdvbrE2cIkJasRhIv5dZpsLNMty8RxXMcmOWeClwo0vSN2/8n99VT+9Z99uYLcsIjKDZ/6CnBWRQ2LHNcNwyVEkAlGKaE6ZYIRgm1ipUVc1jWXFFGsICxkczlbDf22hixV8QeP7u2981PaUzvbe3qNNUc4Pa0DW/PNYj6dDTrbmLOvv7rdv/fDj3/8DzBxx9cvuZjPrt4A2ctW2ts3s88Xf1k1ld+ivaGDFI2jWgm3Lo3DvUMB8vxuyWTn4o5zaCBrZFitX349/+Dp/qrW4xJZgPJSbDJAZKGblBcyzPJSSYdq4TI8fbH2LP/kwT3KweX5ba+z/+bl7Xz9zUc/3umMeq9frVrtEUKWhDDL5WBnd7W5i5qZErXT0x48evzq9EVR577tc8aDQSu+aearXMcSY2ewrfWHJNsAqao4/Y7UVS2apuN1HeQ8vP/kzel1HkeDfk/6xuXpFBOy92iLOem9HzxBhi7osty0P/vrVZVkSnBN04qywtgYDPvn5+eEYMtxKlbzmgsuIKKSCwgRIrguGwRUq9+lIPda3eXmlufp/ZPd7q6rnCIvbsPNK7kSrW5ADO3q1eT2+tx0tGiac0I+/bu/T013uQqPPzjUQadl1cU6ZkVr2D76zefP5+Hats2yYFhjneHQ9gPekNvpFcLs9m42n08P7x2PDg44YkVTrpabdRmuilWSyqtfffbTn32Uh9QwpaCxMSTYtFRR+D2TCxglNBhsNY3ESiFZv/juNMnq9mhkOUOq+45rmqQFOWxYEwRBUYaP3nsYFZPWVuvxB48RBE3F5uPl1tZIt93Ly1DWsIrVmxeT/Qd9A+BOr1sVad8csVKR66slAtI3rK1eXzAABZKVPD46SYs1MXd272/pg3aGZQGavSdWFC50jKm+4jQwDFoVgJBO0wjHhd1uV9O0PM8tx2acZ3UOBIcKUEJYKTFESqhoEw0d4Dum+87R21fPrldXf/abz//BP/yp57uLVfS3f/ur3/n57+V5Va4sUp2M3/p34+kf/aM/aVhaybIslqcvor7vIpCXxcVf/G+/ns1Y0N49PLhv+8Fqs1I4Wazm6fO/3ts98nCgY12zzYfv3e8MbGzUWRGXvNqki35r23bt5XzhWbZGyNag++lPfux77bvbqbfzqEByOnkxn0+GEs+XYWvQffv2O0OUgeO+8+CEOiUq+WSxPhq+//13LxCSO6MRUHlVxd2u++Dez+fLcL65GGwF9x5tWS5frzd3b+9GW4e2pT784cNnL18oyLvdIYZkvVrvDnYwMAlQRllkVPKqEObItgw72hS/+vxXZiBP9oPOoKXsUcmrjI3L7HUyua5iDhUASkoOLNPVqI1gpZTSdb1uGk3X6rrWNM20JKtlzZVgXAnIGVeC6ZS2LOfs1YXTcaxu8P3Zm3gVFqvEhc7rb8fZQpw9u+EcmarfYKhqX8J6ukSjY5IkC9PAl6/uLr6v3324v0wAtjxk19D2b9axLRFAOstp2WCsi6TedLY680UUJ8rwqOlZ8800rVLGpaYbUVL0W9v7O+L4ZPt3fv9HuiEaVhmG/vidB8ZwbxrPKewc7XT/x//3v7GNno6JrMXJ7pFtj/ygF5ezpJwmq6WJrss8He0MMWXPn32lazRNNndXy1an1+r4UlVcJicPtm6vSTsYTe+STTwd7nUO7+0iDYRhyEpladZqddHt24RifWuvH68WZVO9On3NFdw+2Qn2u70tzQT5m7ev3/nkwIIAa3R6u1Jpb34poyXGUpeiYbJM8mWv469WoeM4v03DbLHwfA9IkCWJ7misKgnSsIbrCmZphj0vizKFVavn2JY16rhZAmytGAzI9vDA0KpOt1NU4O354stvv3p74/715//zj796/cd/8vNuyy5KP46LQpx09vf+zp/+weXNCmjm1v5eu9+mGpm8mP76139t2rLX93/9xatvv3krma2b5c/+4MHB8bZuwHixmk3WRPiUlTuD0WI6X83nnZ41n48//vQn8XJTryYmz5Dige29M9xarThM673OjmPszqfhKozW6U3OFgfHO7oZv/N0L88bTKSUdZoVg+42EORuPEmvwv7QGe204zi9uRlHodRp+/D+TlYlXhDEacQYa/KmKpDnBJwBEjiOodPCwFt7g+MHJ9DQSiawh4FINK4biLz6+pc775yYltYhW+MoV5VhE0twO+dLRBmiMI7Xdd2YpkkJrcqqqeuyLDnjlBCCkOCCsaapGIaqKspuzykSoYGi57aPT3aGwxbjhanjDwZekU6LZIJgLhXSbDILN/PQlED7sz//VjM6f/qP/2F364c//dm7iDgVV06v8EdRwUrNQogIzdR+8OM/eOfdH1RVFK5n/+nPvs0rKgUwXYc3hNUw6HmQA0v5l68XTV7fXq5qFkOhNIwDz1nd3XABOrqWz25lEZZx+sP7D16jEGBKkP796yuqq57v9fzeve624QBAWBnJsqqns4VlOZRopmnkaf7pTz6oQD2fT1ru4PZ2UmQo8Ds6dU2H5GW102ublvfs2Rc6ov3eTifYWicxqYtkZ9T6wY9+f7DTLVSVyiaOkjrNQJq3hDn02zer83ic63rQgVtTcOq79nkWAaUgUlTDhkFlAx4/fvzs+bN2uwMh3N3djZKYUJo3uelonXZ7MU90quka7LbbTou/87RFlex3wVYL1GI9KyIfu2w20XDdlI3M8c2Eb/LOcPDx5WIaRikhcJNgau6Njt1I6ckibtIsTVNd1yQX8+mcEhi0PGbdIUx8vxt0t/7rf/rP/6d/+S+SJAMw63e6tkkC34jDu07gkuNBuiot08KoGd/eFLkGMFst5kHQ7dtGNL8BIl9sbmrZNuxWrMAkXt1Orx4+Pdw6PtBMvT3oFE28ju5aPStN0zRR77//w9M3bxkvH74zavfwYgM16t5ep2lijPqP8yItq3wyqXcP70lJs7Q42D9Zjse726PVMirKkHzwwZPt7cHd9DIqFrNk0VAoCG617TROWqZ9uL9vOHlUR+kiOth+b9Wfqlb34m0WxU1ZFQIgRDBRmDOmpKSESAA441JKhDDRKIQIKqiAohpFWHChxps3wwBZUB/2RxiWYTgHLk3rtanPuawKHml4kKSlQl3Om+VmzAQ4uffkT/7kvwHIitJyMr+FTQGyTcPEumgQQAgiw3FEXG+qGdWNoshcx3/3vXe5qv77/+H/AUTumrip48uLK8um0WJWN6DV6RaZdAPvu+fPTRPu7++kSUjpma//KC3T6fjSNFtQ83793W+swVZ75EIYIC1twBpBbxFKiFF3eLy5uzUMvD0ajbZ2oISfff6X3S7Fc1EJ07X8eJVlcbNerxyP/OiTj6SeTecbzuM4XrdbVuC3EIFJki7mKTF0dXnx5vn3zzqd9vbOFuVks1nLVHt08m61madFPLtMNNPfao2UgL//8d//l//qfyuLjWltVcJVQOR51bKtLN7sbm9jQpbhxjItx3AbznNem9irisrz7KrOyiYn1r53ogcjM5nxtdla346rZP7+k53lYimkwpqh4M7LV3Iydlpd9vAY/OYFSQv8v/9n/6zreHW4KqIwu7uKwoVqGOOyqCspFda0kjW+598/vi+SnBqaKGLDNLY6nU9/+ClJxiTLUp4on9emJjzYVKwuo4xjUjbharXdO1HXWl0yw7r9X38R+q3d2whaEoFyvvcg2NsJbi7vsGXsbrdMES5uv6+lctp7pvOo53cHVufVq/O/+PN/a5rOk8dPZ7NJENhFlDQl6/r9Iq03sPZa+t30pdk1GMgFy4gOqkZhUw+zVVKlrtkiYZzHUWbarbwSb89u+/2u6/hRwsJpJQuh4qTXOrRdP87467PLzk+GT5589Lefz0zX1uoSIsmYGAwG6+VqsDVqGqZpmmGak+nctC1KSVM3RVFggqWQhNDpdFJlw7uLtIjq8PZLWJX3D0a3t7GutZgQ69WG6s4mX2ztH1essDzv5z//qettH+7vh+FyE25Wy/l3330Vrzf3ju65nishKVh1+vr51c2N57rrjzY7OzsN56Od0db2aH9//7/+0z9Vm7tk8er6+qbXal2+vXStQCNW0tSa1VpHITGNVbKxvFb/8JAYtia0599c750c3Yxnmk7ee+9pmTE/2EK0zsrNJt0ErdYgaHvtnXCZXt6dtz03SsYNj8LJ+NHjfSasl6+/fvDwsXLtNCkcz+iwtue6UTKXRk2pzmrZaQ9ko/Ks5oo8vP/k5nxKikphzVWo8lt+nqWTedzhiEttPl7LIg55Oex21qtaYk0j5vnFlAubC4ywDmFTVwWADADleX4cx0JK3/cxJrZtN5x3Op2ybDDGGKGsriFiGLvRAjVVGYXzwKaHo8HVzfL+wUm4Lm8m48Vq6rdZpWBUbQAGrhm8++Txzs79uqqurs5vrm9vrq+/+eYrxuSjpx99+OOfKqAWy8Wbi6s4K+arteDicHHQ7fXupnePi8eIYMaESxtk2L7ftah2snM4GS9n40nHH3m+Ixp7sZxH68XWcKDbu2mVv3h2vtXe4Zw+fPh4tlhMpquO71e1VDru9nYmN6Xgep2hm3DCuHZ3d0sOtizX2NaHi/lKgma43Qu69tHx7nScUl0TADDpU2oYeqvMo6JMKNYtwjRixWHcVJljlhhCMl1EmBDT6WCqW45W8zWTWhC0VstZk2x8ildLtk4ihclgZydK3TRrNNPiXCgFhBSEQEqIaESe54ZhCiHyvKCUcCkxIZQqpZSQ0nFsIWvOxfmr6aBn3j9+ksYTLnGrsxtn2rNnFwoiLruLFY+yZGfPefzkvZqJIkWrxfKLL76oK7bexPPZfBMnj59+8KOf/m5n0C+rcks3Hj5+Mp0voiiSSkxn0zRLKaWbzbrb7WZ5Pug47z3dt9OWicFw2E7mee/ejqW35jeT6Oqu55kffPAOUEU8GWNdFw0GCJZNERDryXtHi/mMGvLtxZk3GvrIevr+D1uOf31xZxBaN+Bw/+FsPuYM9rqjg4NBGJZ5nh2d7E0mk7xUq2VBiV+zIltlCFPLbElGHNNbTqPDvZ6tN76p3V5fOZZODMOzLDOKotl8SQl2XXvQ316nM2qJUX+UzueGQ9qGZXhWd+inBbl4fakQ0HQNwlLXdKjUbDZt+Z0sy7q9XlZUAADDMJkQVV1XVc05J5QIwYVkjtM9PuwbGoNKCY7ilCWbULIsL2G72/IMI4xntqd2DndNJ4inRbTJP/v1t0oJLgVjFdXpg0fv/OEf/nGnNyirmnGexMne9s7B/m7ebRV5gggkGqYUC8mury5Xq9VbAty28eD40WrxJg+TdBknkO9uu6bk7+ztPL5/sLvbidLN+fVydhsfjHZX6QI0LGhQmCRBzwK86gysuIyXoSo2mX7oRJvq6HD3/PKSc802t5RBTL0nhNIo1rXefJaNdtvf/u3fSIV1Pcoydnj4AEIqJRMV1qB5/3AvS/NBp1fkBQKS1TWpitI2LIqppVucN1maX5yeNaTc2m0Pt3dMSpBkqlZu213G8+l8TnSiEIuyTcOZZMw0KMaUc95qtRhjhq5HccK4bBhjnDHGCCEEY6UwFyoMwyDYChc3eQZ1zWQM16WEQBqeLSSbzZLBdm+wfRj0gul0s5jAu6vF2dvTTr/VsBphmue563caLv78z/6MYGCahm1q7cAJHHs+vmZQCEBM3kghAFD9Tne1mJW1HC/X7797bFOH5wmopeVbdVN/+On7V6/fjqfnpr589ORQAivP0pIpqtu7x91H7+7/+S/+g+BN22+PRrs241BoeVj94i/+RgkcJWVW5gLy7dEuBPTmZsZqbtl2r9eJ48Z19Xef/kQBfnF1DoqCyVLK+vzluN/rV2kGBGZVMbm98lyn03IYE6QTBPPJRCnZ7rQ0jTZNbdt2CnKv3detFhOhhnCULk/HL3XXlNChlo+oBEoJwaWQGFFd06SSAACMcNU0tm2vNxFACEJg6LqkelkVnDMAQFlVZTW3bYGgnWUSAAwRXa033ZYTrsL9/Qcf/+jDz776cy6rzcpqyn642OhUL/KcaDgvsjhNWt2tf/kv/2UcxVLyTsv75IcfPXxwYhvENuiyqKVSnHMBuGs77SB4/+m7n798MZ6HZVEDrmTFtwdbFTCEAqer272HB7vth7w8W6SnDZRBz3PxztV0slqm/+k//WXFas5qDEol50f3d+JVnWf51nDbtgNs0IubizgMwzWxzFa75Z6eXTa8LOsYKP3s7frRk/3l+kY3zQACqsMkygzNBoJSjNbLcGurq1GpaQh71s31nNS1zYSpGXL/3t7F1aukXvvbu2Sj8pvi+enpJotbW23gDlFW7Li9XtCbLNFX2dQMdGqwSigpiJBYSKYganW7z77/fjjaAlgJxQFQEAOMgSgZoiTLcsOyilreO763XtVU8CIv03RVVUuidTtD8ebyy9PrNwqDVYwXs7VjU0HBpkxBqfq9dp7lnmOYlBdVsswz3lRYwxKi5TKkWPMdrxaSccYZhwBohjHbhOEq7ATdJq7Hk8VWp/Pm7FIJXpTrINA++eiJCyWM19lGEafvAhLBwvTsm3FT5mklZFUHCAEM0cHuYBjsleubk/vdhoPL24u8LImubT86GYz6WRr7rheWY1WBeBEChRicrpYoz3MC6VbfbRoFOJIgR0Sv6tK09Lfnb3d2tqEieVHpGibrdey4bsXWpxdv6ibZOxjVvOA1TLMcKJQXQlolNeUnP/xps5w8OjiiiAP+oqkaxzFZVQou86L2A7uua6kU1WjTNJZtFUWBABRSQgQBlIQQQjUF0N7Bid+yb24vOIcQQUphbxA8eXo0GrX/l3//m9VKPn78g3CTT2ZvTVO7uDyvmwJDGHCfUk1JsbM9WGxSaXgGhY6uMynWm41BCaWaqetSSt4wocRytQQYE4pFrTREJpOJjtt5xXq+e/9429Sq8Gp6HaWSwaoGq2QxXifbJ/dQccdlSQgY9nYxbrGmgXDuuv7l61vdtPIsz8oqS+Oj+/eWq5ALuAwjpXKEq6cf3FvfpCBH7XabuiBar4fD3aBtvnz9XbhKBv0j0JOL+WRnZxchVFX2fL6QShmEAiEJBHkSF56vNXl2eHjAWcVqmKwLi1i24bgI265LDY4h1qjOoNAtQ0pua1qUpYauE0Vsy0QQGobx7TfftNptwbmmachBaZZxzoUQkguIEIaIIlLVdRQxwaQSsC7KdrtV1eFyvT6/ft3pjg6ODqUyKAWLedRuBYTQOK4BkGG4dmzT99tB0LZsE8eFktCydMsyVNMAqLBObeg1QiRpiggu1uuiLKlOHaPTaDhJdN/f15Cqs+h4595yfnV+V67TEph2mJVBf/Tg/U/TrJBMHPSOonLV7vXXm0Y3ddfbe/bsypFW2YRxkj5+993TV5ff/PprqVRrsG/7BlOrGJas1Usi5rmdNy+viCOrHG6WGSJNb+AqVi8nt0dHJ8vJdDmdtlqtw50dxvjz589qTDXdJqvVTbsTGJopOOEF24QxZ0IxtE4S5SJkalXR9PvtJq8eHB1nTS6RRjBqqrIuiqZu2n6PM9bUhev7uqYZul6zRinFGQNCIgBq1niuV1RlXdUQIC6AYTqtllxN14ams6bWTd1t+9Nwtj8a1aXmur3JtKwbVVYcIKQgtE2nbrjv0SzPV+H6+up6slibulak645vd1utKC2yPEeaDiGCEGFM58t1p9vJipSzzHcsxnme5aauWVC+/PbrcDGG2k7GUIlk6/hed7gtIOoHQRmHi9mdwuDm6q6u+Wq1NgzsWbqmSSVAtIhPX5w9OnyANS3LsrtlOjo6WMVZXsVKcIQxRJRQk9WpZXhFVvT61ma5LOKNkuW1gr7jrtchEMyzzaAVfPzh02+fvxYQI8d1siy9vroq81IxqCGLFco0XN9vAwVXy5Xk/Pzt28V0yuoy6LejNAZAaRhbmmZoVCpR1xVFWDJ+sLcvhTA0fb1csarRNA0qQBDBEDVVjREimFxeX1cNcywHCOE7dlUWmzicLZdprm4nUdDepXpLQUPXrdlsFoZrQjWsaYRq4SYGiISbaH9/Z7TVbgWWadCbu+tlOA/X6zTPbu/GZc2IpgsFNMNAhCiANnGcV4UACmv07/1Xf+T57U2UdQeDwDfLbNNteaaGry/e8jKss8npm2er5TJZxm3L8SjcG/iaAq7uQ0CVQDo1sUIE4DJOw+ls0A4u3r7ViQmkPp9HUZKvswhQRQ3itz2EIWO1YZBW4A26raIohODDrUF/0MMY3N1dNSzXDFpWFbm8GVOKRsOeZbdarb5i65IKrlDD6mGnzxG3DFrVYH+7rxGIDUo0mmcpIS3LMJRSCIGmavrtdl4WltGN49g0DM91pRBFWSqpIACcM13TAABQAU23wnXkIK8bdHQTM+Vmst7a3fPa9z3rfhwix9Y3m1QoWZRJWsZUR3lRmIYOBCeEIoQ0U/NcY7VYOrajafhmfCsaxhmz3U7NmGVbtm5kZbFcreqm8byWVPzi6vKHH95fRWmrv/PxDz64vnrxxTfPdg62bds+e3seRjEplt2eS2Fjaq5n+gYHQFWOZwydLYTcOIoAQmmWbqI1hKKu607bdQIdm7brtJygS4g+vp1lUe1SHSLIed0dtUxD2ia8f+/+ZlmMv35Z8abTby+Ws7xKFsvpPt3RTRxPV2T34GGabiTU47SazkMD667jp40IN+ulUtjAq9Xs5LgveBmvm0xmr9/eYQx1Sh3fU1AxDk3HLsuSIKykKovSME2gFEKormuMcZokjusCJVnTQCR7g95ouzs5nR/vHRRFlFaa4bSjJAv8/TQRUjkY20mWC8U0A4Eaep5flWVelIHnllXFVxxhmVdpVRZ1VUabDaXEc92SNQ5CUioFgAAKIlzXje05jmWFy/HD+8dEN1dx7pi+2RouXjzzjw/aTk/kKqDuxz95N2Wbw8e7X/3N13pjbftD1xDSKdp9N0nxOoIRQbqm/egnP/rqqy+qptA0QikCpJBNfXp2/d331598+pP9g/tTepmk2e7uKA6ZY7g3V6+FxILLNBJYp47nYINgkyw2y+HuViWbsik1AgghBmvg3sMHWRpKRCsp47xKy7qumR5orm++PDu3H+9I0NytlkTrCSkNXccQ+I4Tp0nFBbE03aQI4qLMGlZneco4s20bQQARlELmeQEQQgjVTb1ZZa5uxOsIDoUUzHW8rXtHq7jqt++/uL3VCGwaRjDVdWMjYsu0MNYoFQgCBcD29ihNEikrIJhlYCmBYMwxrO3hQNd0xlGWF47jrpMojiKIkALgdjLWEN/b2WkHLVe3Ls8uf/XFd0r33nn4OFlks9W83RpEUVoh8fZ8ORjsXnxzXkZ1r2VCFBPLiJJyMsvmWd5utTbryNRtCCnVNNd1Xr99BXSbSXu0u/3y7GV7ZNcq10waRaGm2TWLXc8okgQqDSK9zGvPDeazFSSEUu3Bw3uE8PHteqtnk65r5itrfL3pbbW+fP7tcDRcLHLMwG6v8+DRvdNXz7a8Vtvqljyn/YCLyjAczoRgTZmlBtbCIqKIY8qoZnDROL61iTaO55dN6XhWUdRUM3TDzoucC0koWs1KEySsbmbzS4RBUpbrZ5MPPvq76VgXGSxxpFg5m84Fh57XzvKqqUTTSMukTVmtVktdI45l2FobKEEIqorCd4P9Yb/I6phXTtuvGF9MJgAoSgmEiOh40Gnv9LevX755eLxrULZIit3DgzSc5Sn3ug4hKkqXCNHTV9NHBzutUef07Co4+HATQ58enq6/X+dxukz3R0frMmFVnUuAALgbL7v60G33l3XZP9J6+56hgywlZ8+Xx9ujyeay07ZHw27/yePby2VVwnfvHd9N52672xn26zp4/s2XvYAc3d8DBkKWpT786NGg7yabBZIMCVGl6Wo91nxZybS307/3zuN1UmlmzzAHRQniTc0Z0qiVpYVS0rEMwzAY41mWCyEdx4UQ2ZZFMNE0rWkaz/MAUEpJSokQfL4YI8qZyubhHSRwONx/59GnBu1cXp1mRQqR0g0dKGGaBgCirkvOWV1XQoi6YUmSFGWp6aYftB3XPzw8evjond29fV3XhRJMyMUqnEynVKOEkKqs8jSXXDiW0+l0KdU0U6M6rOt4FV5Ply9aPTlbvgijN4iGrldguoiTqWGQx+/cL4pYKfbmzfe2pQ+HfYEVg01/u2d6lkRwFSVhVHbaHq/S8eW5DbHWAFIDlfFBq1+UNYRE10zPD6Io5KJYLm+hVSGzkriAqPE9NwqT87fj+WyKyRIl6RTATMkMqGrQ8T1T7/lBr9+tlXj25lUDxCpdL+L1l8+/Xuexbfco9Sm1gUKapinJdA1JIXTd9P2grpmm6UEQpGmWZnmeFwhihDBCEGGIMEQIbo16jqe7Ld0KzMV6LZV1sPuD2aSSSgjBMcaXlxee7/8WXbRaAUIQE+y6DkIwTfLVcnN6erlcbrhQVc3qponTZBEudUOXSkVxxDjnQjmmpes6BEDD9OTonpByk8Tj2Rhr6um7R3v7rb3DjoRZf2j2evpqeQ5A/Cf/4CdJMp3MbrqDQMiqbvKyTNudIGi7f/SPf5/DUuC6O2pjQ6sFjHMWbzarya0Bwdtvn929vbh6cZavssf3HldVVRZVu91Nk5RqCMCmN3Byudx/1GNgU1UhAkKn9uHeo47z9Ku/hiQrwvg0871hvx9Mplf9XrtKZTQvwoh7tlULjqgAWrUJL8/v8gcHnwqFDcMBAAdBYNR0Eyc1U6zhhIIszTiXEGEloZLAb3WaOqyqBmHo2FYYLynFjmNqhrZ/fFJmOSnp7t7jIsMY2Iahj8d3CqiizAlFdV3atrWJE6rhspKz+cqxdIpxU3OMaJZXhmlc39xJyQ1NgwoN+iOFAEBQ1w3NNKMoCTyvYYwi8vjhI8fx87K6vL3RdHF4vNP12lVlhcuNju1eOyAEAETiVbKzsxXON6enr/2ge3N3x6X8wHq31fazKmtUbRG1jlZJkSKqu3ar1fagVB61nv7g/e/ffnt2evmzH//9nd2jUmxuby/CMBz02whD29FMw95r9YSESRwDUC/mk6bhAJvLdWrbJjm+f+/tmzsBJBeNVHwVzrZ3Rg3RM8YY4xIKx0EMlNt7DqJNVqSaQeum6rW60XpVs0pJoBu6BJAxbtsOJloUJ5jQIGhpVDdNK8vXRCMNr4RgW6OtdiuYTJZl0RztP/jJz/5AI92b642SgvGaC2Zaxt3kdjabSCnKuqAUAyA1jWAIhZC9TltwsVotMbYBxHlZ/ZaJFmlxdXMlqQ0QipMkTTNCNQgRgkjXCEbING0v6Am+ruq4LIrNEmxqUBV2EAzO3tz4vjnc2losCw0bBwd7b97eXF7eWJb9/ocf3t1NdEtHFGiahgk4Otlz5vHz794olVW7wdHDd5kgtzez1y/PIMa//uzL3elicKgHgTvod+q6QFALAp9zTokOuXItKwqz+XTT7g0S1oiqyouaJLU4vPeIN/D26sxv++FmmSUNtc3tocWqVKokTRuJa9uzg26HVzwt1hALBbjgrOV7i+XaMN3FOtzb34/jNGg5lNKyZi7AQiiMCIQQAIAx0g3Nss2XL1/v7e89evTJRx/8ju8Obq5v5stxWaRN03Q67bIqpBRNXeuGFoahAsAwTN/3mroxNA0AZBg6hLhmoqwa07SlrMuyUgimaYoMKAHAlAStgBKNMyGkVIKPx3cffPBoFUa2jU6OHo6G3tXNZcoJhoFtDibl1Oy0RaWdvTyzfTCdXeuaf319NxqN3rw66/W6vttOi9ixnPVqJYXMM9ZuudPJ+he/+uLo4KTV6p9fvXLbHc3U4wRcT++gR2zXieKw2+lRQmeTcVmWVt6py5oV0qTGxz/4GFD9xen54dFRHoXItD3D8R2/DTVascZ0zMGoj2lqOpv9Q4uQcr1aOkYr2ajJdcxluQgnEjRCMdezsywlmAoh6qpmjOmazrnQdcN13CRNBRemaRqGIaWEEFZleXFxHkXxzs7JDz76g7p0N2sZRUWSh8vwZr0Om6butFuOY+/t7yEETdMQUhRF3jTVcrGqqgZCvF5vDN0QQhmmTalW1zVEaHd3l+r6Jk6yLG+aGiG0Xq+F4BRjyzRuri/D1brbGxJiLOabi/O7+WQFkQ4hnU1XBOvLZfjy+9fTu7kSUnC5mC/293akRL3eYDKZb9ZptskXk4VBNYPSPI2LLBn22prtX083lt/nQLv38PGPf/67P/rpT72O//Tp/e2dwf7+Dka4qVkYbpQC33/zZj3LBp1Rp9VlrF5nkdV27lZ3ftckGbhdbc4H7a2H727d3Uy2tvYAMo4Mn0Jx/jp1nPbBiSXQQuap4EE4X5R5VouKWFrB6k1aWFobIzzod+LNuj8YrjdRXZUYY0OjiKI0TSFWFCDGoEk9yYXjnPzO7/5TVsnN5saixt3Fq3QZmqY5Sac7W9tKyCItkijPcsYUpciq6zpKigaiVZJYvun3jCpLq5wrjpNIMaEjUn74k/7P/6jzi7++uL5aT+9iLkV3sJXEqRCMJwwhuIw2TrsNkBEurk1MV3GyZxCN6qvlpDOkhcwTmree9PR+58lBN46LQW9rE244Sy1fNSKipiUyFc6WBCJPs6JyzgDVdTcR1aurF2bHWSaFuFlo2CjW9Xe/3HiBeX7+3LT0H3/y4+uLXwV+96MPf+/li9cXl0mv2+eCzye3mqklIEpbEG0Wcb/VhoI3RWEaJtU0QMBsviLQ1DU7DMOyTPMiMi2j0xpq2G4qBaDWMLGJEkwp40xK2dT1b/VLXVemaVZVZRh6WZVVXUkpEEKMMVZzwZXndoDEF+dnSrDlYgyU6HR6F+dXZVElccoY0zWtKnOMwHq9ZE0JgPB9zzQtTdeqqhoOtgRXlmkJLoUUtu1EUf6v//V/nkzWP/n0Rz/60YeWZfp+mzOpAAQIAgCzvGBcPHzncd3I6XxxO77TdK0uYiCbOI6kIIbeDddAyp5S7jJMt0YjQkFWxuPpXZpkRckUAL9Ve4eHR6Zh+r6XF8X21lan5bfb3gcfvceEuL69/eLLLybj8avvT68vbzrtfitoX17eSIEN3RNcIIQuLi+fff/96dlZr9OydaxS4+JvIdErw0fdm+ubwWDoDXq275ueJ6vlxdlccDsrl2Wlb+2Okpg0pZGsa1vrRDLjjfIcL88yCQVjDaV0tV4TqhuGGcWxlBJhDDl3HCdJkizLKKWdbmc+n+dZulqtPNejCLOqsixrOp4CiFktHcvbhJs8z9I0wlhaJm7ytGaIcG4aRpamjaaHi4QL3TIsw9KX4VyWcDjcFbL6n/4/3yL9ea837HV2WIMv766rqmp3XaLphm5cX93++NMfAYVMw3ZdQ8cimS+Hg95wa6vVGt7Ob3f6j04efFLX8y9PT9Po5f7+0LGN1RQgZR8fvCtglcYxEjyKYqGEYRp9w8riKIs3uoXevC7WyabT7qRVzlTttRyqAcPUKCVNLZKkFnzCFM/y1PMNSomu06Ja+4G9jUxcCCITdPbdVRxHRzv3WCMWs/lh4O1u34MVzcuKZgooNL1Li8w0MKtTVecAKb0pude1DV3HSN/Ecd3UCKK6rvYPj1zfv7m5YU0DAMjzXEoJAJBS/vjHP/7222+Xi1VdlBjiuqryPAcIUZ0eHB6kec6Z0DWNEvTg/jEx6enlGeSSaO53z16ulmtD16EiVSl77YHtWACp7d0hgDBNiyLTm6KDQZFs2HC4NVkv4zizLE1JkGfFg6OTy8vb2Szc2z2+PHsRR4lJhe+68/l4No9v55dPP3wEkL6YvOr1+48ffuh4CpN6vVr1OgMCOrzG3d0+kCJdh1gBiDAg5WwZUkgG3W7FqvndtL/VF5JRg3Tbo+1+K0miJM6yPKfY+uEPfjidrGzLZLwK18vd7h5jVZplAqQdo2MQC2VJIRtl6/Y3n39TF3WVlePrmyTKlSJCsLKszk/n49vCsQZhmOxt7VJIsEKSybpuqqrClNRNDSEAECqp0jiO45gQEieJ67qEUtM0McZFUfzqV7+K47jKC1Y1gnMpFeM8SmKAsVCyKvJoHVZlsVos0iTFCB8fH3364x9ub7XbLcfQqIYpAkg0XAjZ6XSn08XN7SQMN3UtldIpdRE0HaeVp0UYrgxDo1RnTHa7PaVUuFrPJivHae/uHPzxH/0DSjVW12VZeoFFdG5Y9c3d52X+4vTN17c34ywpRAMdM9gZ7b/z8NH2aGs8mV9cXudlmeZZkqXraG07ZtDxiYmpjk1LwwQiKCkCLc+rK7bZpLrmpnEjODo/u6zrhhD9Bx9/8v77H0GI67ppmrrX7eqePq2XxAoc3TKSTUQ0kmziSbiwk9jUjSrPbMfyvUFZCZ24Z2d3rmUHnm1QJHlNqa1p2nS2koBqVKMa1nQjywshVVWWlmVFccIYk1JihJRShBAppRDCtKw8TR3HwRgDCAGEQimqEV0HRVo2FWoF/ss3b08vLwfb/e+/+EYqwBquhKh4sTMcWroOgBrPJ9d3d5qGEdE0iiFlxGCaYRiGPp1MEVKtlh/HmWUFjHHTNM8ubmfT8MMP3732O599/mWapn3LkQoHvUGYiDSLH5wclGmlsHtxNZmOq0GvDySwbbqJFsMtquumF7RkXSCMpleXRVkNRzsN4NjSVF3tDXY8z5UNX96MVcNLjmyzNxnHBLmWGeQ6L8tifLeMNsXW1na3o6+WISYGJabl4/2ui4aHQ6mpWtW9YRdjpLgskwIBZdla0Ap+8skftL1D2dg6Ndsdd3x7XpUxpRBjCJTsdDtCSCFlnudVXRumASHEhHDOGGMIIc5YWZWcM03TIIRCSMn5Zr0WQmCMpZSU0rqpZ/NpXac//emPtrd6ged98N67h3sHV+e3EBCgCFBQKgAUcBwrTdZVncdJZNuO67SlJEI1RCtMr/ADc7GcTOczJqqyzD3XQ5AiSOM44VxOp4t1mBwd3tuEkW1Zus6CwAAAjkZH1+fRX/zH727esPl4bFny/r37pt6iJBj0tyhqsnwebiLbcXu9flHkCINWO+CS3S4m1NWdwH17ftZUpWsYmPEmLYsUDXtHJ0dPLaPFmPL9wPNcKchkvDl9c13motsZsUYtl5s8QW9elkTTqv2Djq7LrZ2hYHAw2jM0+/s3X1gevby5u7jOt0dPBF7Jil1Nzj48+gBpoGYlRIoQDBCM1jGAACJMKK3qxrCEbds3N7edbg8hBACoK2aaThxHrmtTCpMkYYxDCJMkwQT/Fl/HceQY+OrmzjJMatrX02XdiCdPPqjzBGPSaTOKbhGEGlZcNvs7O2EUpxhKwTgTlmVqGkAIF3mZZwXBBCMiJcIaEUJqhj5fLvvDblnlz54/f/+Dve2joW3lmqzuxpsmr0b+ge0EhlHu7B2ezb61dMMPWkyjRV4tl2ti03W23O5sM1Ym6zVjAABDN/wkzXzPjTaRaRlBq5Vkyc35VV6K4+N+JeR0deu7bcu2NtE6S5N+v1vVBaWUELpYrGzbZA0B0n7x/HYdl+Ts7Xdu0BrtHL+9O4/D6nDnBLD0ycOPonwBSHFw8lFeOr/57vlgBx882Lu4uKhFo1laURUq4k3dGJrDJat4Q3XdNE0plVQAY9o0TV2XGtVYIwkhlBClOIAMYsSlBBBggnWDzmYTKYRl2hiiZZgIGc+WK2o6AjUXlzfDQdegBq+anW7H891VHO7sjx4+evj5Z597rtk0jRCMIlfWEFOrzlMMTc/RESFF1dRNrds2A0LTqO3oVZVeX9/sHfo7x9unF//FtT3S0Vja6K46eXTQ6nmGLS1mvz09r9JfbfeOgQKajYgmKsnBcuq4nmlYacqKUu0e7hA9z8u1DnCRsFar1+vbV9dj6g3cXq9JXoumuZ0toTJWi43neFIg3cCI6ghKVtWzWYqgEa14mSnD0NHw8N15KqNaeYOt/sH27oO9CudXl/N6Q4soVmx9efrV/qj79MFDR7OGwy3GuGM7CCFKiaZrjHOpFIaAM8ZYY1mmRgnGkGAkGZOCe44jWMObWrAGQ5hl4XI1ZqyybbMu6zTOlcBJnC+WCwWAkII1TdM0s/ns+vr67PJisphhQ9dsK6urtKgWq9XL168xJp7njUaj4XBYVVUcR4w1lm1qGpVK1nXNOedcYIQ451meSSkVgFGUpmmTxGI+K1ZhZtmBgrSomMLE9r1FFEmOXN0fX4+ff/ftzdVFmceyKXidbdJYM/VOv+P4FjHoZD6WQLRaHaUwgqQueZoUpkl9T0vTjUWNtucjCC3L3BoNBRAlryzbNg2zqqpery+l2tvb293bffDw/r17x+jqat3rHEihheFmZ3tL14HnkSpf35xd+XprfH0q5Otuf86qCWiwRjVCsG3bGOO6rhljlJLA9zSCBecU46auTUPHCAIgCUYEIagkaxpd05SUBKNBv61rAELOWQUlcG3P0CxDN3XLQBiXVcmFSIt8Ga5My9JNiyuwWm+wpjEps7LKm+a30XVdF2PsOI6UEmOMMUYQQYQwJgghpVRZllmW1XWjAFisVmlWCInW66rbPtjfezfNGoRMTMySCQ4UB6pWHAhoYWs0HJmG1ul4CPEy3fCqGO1uXd9dvX7zxmt5rY5PDZrXheP6umavltFmkxBKpeS9gZ9lK6yk79rddpBlcRitFAZpla3WqzAMm6ZpmoZzniTJcrmoSiY5JRonXasdxSErstNvv0MH+31Df//nO199flaV1PHho5931tmVKJCvP3r98nvORVHkCNG9vd3b29s0TqRsOK9ZzcuywAQLzixTL8sSAGmZZlFUGiVCVIRggqHl2K5jSd4g3SqLvMhzjQqCCdaNhjWbKFqslg0TJ/dOlsv1PFxWWmVQwhs23BoAMNc07be5b5pG13UppZRS13XDMBAiTMimaaCEhqELITnnUgKmAC9LiJDluKswSlKXc63KwGaVj7YOsrR48/bCcc0oS0VSruYrPwD7+/t1U15c3LXaumUZcbxGWOkY+a0g3KwxwlQj4/GdabY03UiSdRguDRNmxbwpaoqMehV1ujtpXvutVlU3fhBMrm83m9gy7TzPfN+9f/9+luZffPnc8Ydod6tDAWtbhquRnVZHZkVArOX0fDhykjhvajaZvZ2vLqazszxN2512UeR10zx+/NjzXM/zHNeLok1ZFBolGKpOEKRxhAAYDvqu43ie09QVBEqw5tHD+08eP55P5rPxrMwLpaShU9vSGSsJga7rzReL+WqJKcnL/PziwvHcXrubZzkCOE2zsqhOjg577fb4bpLneV3Xtm1rmial/G3JS6UghIQQQohSSgghpRQSNEzUDVtH68VqPp/PG8YBwBRYVSqWk/VqsVESRlG83oSUoNH2sBFlLWsGmGGbpumUWV0msYbQVq+rOJvcXMumGg26SorVapFl6WazlqrZ2esGHbJ/3FMaWkZLoiEpWZ7GOoayKvb29gI/yPMcQmjb7ng8vhvfPXz46NGjpyQY6ovVAkHU6vucS4loklXjcVQ2CaK0rKWMrLRwdrf2qRRlhUzTqItmvV4nyRoAWJYlBMBz3bKqpBRxHA16vbKqOWe9QQ9ICJQq8lQKoaS8vbmqyiYMozCMdN2K4rWmoTQtiG4BBN+cvq2bBkCS5bnjeus4CkxXG47KNHvv0dOizB3XZYxnUWKZetM0jHOEUFmVuq7neU41A0KIEFJAAAC44E0h6kKYGnF9rarLJ08eQcyrOg98NwRmtEiDg952v5Nkm028PNjd1xhfTpfrdH3Pe+gb3tmbsGoURJpj6kAI37Kqsu61W4c7O+12uyyqN6d3hkF9aApZEs0IHBNBqvTOOs2SItU0bGIiG9aUFfTo9s72vXv3v/vuOyHWDx48vLu9m81XW7sZEkZtdfRlugiLSGgImdbtKpwtZKt1MNp3BSy2ej947+E/Gw3uP3y87Xmu5wU7OztpkuZ5HkUR56wVBIauKaUcxynLQtN1Skm03rCqbuq60wocy9IovTg7ZU1DqVEWTZGV63CtpJCyUbIxTHJ7d9dqdyjVLMdutduO62oa3YRLxzA+/vDDQbcXrdcEIcFYURRVXQshgJQYoTzL67rOsrxhTAEAIQIAQAgxwqahI4Q4V4RShNS3330hZb2JlnmeBk6QrVPFZcsNeMPX6810PBGSQyKJgaarCdCQ2/JbnS6EuEiS5WzalIVvWx88eQKl3KzWrCkfPToZDnr3To7DcMl4CXFTsgToOCnzsi4s2wxXKwLAznCoa1QIEUWbsiz3dneTJLEsO8vjxeoCabdMnort+pBMjfQqjucRb+g4umW6LFgF4Gozn2qy8M2cJfXrr6+wtBbTaL1OGGMaRl3PQVDOVgsGQAVhIWTRlBoFbd9erjfj2VRhoNuGbpmNgJi63U6PNYxSwpuaIqiamlelZ1hQwDQpK4E2ed0oEGdJ0+TERIVsXlycj+Pk+Mn7ilAmGolMhVuuFbxzfLTddgetVsMBw2bOUNbwSjIm67xIlQS8BEpCbMC42DQodjrFePod4ZI0jtsxd0/6mgOjfMVE0w56pubnFe8OB4+fPlwtJ3WzYThL8XrFFyVLvACvFufJ+tagSjDBOQE8f7Tf0cqMxvLJzg9449Y6zY2ywdnT9x7Mbyfji7kQcBxFZ+vl4fGuoak8j3r9HucqjgsFtMP9B1vdXVQVjU4MxsD5xXXJhNNu1wDce+c9amoK6e3ggVTabJafnZW/+c0rzmUYbvKyAghzKYlGdV3jHBBsmqYnBJQK1FX9WwUvpFIAMM4ZF3GSYqKVZYUpJRRPppOGsSzLGtZQQuu6LopKKUCpzhoRhhvBRRwlq3k2HUdnbyf/+T//jeD6wwcfOmbf0MyiLKI4sS3bNG2IYFEUCiil5G/7vlK/vYsSnAvGOVcyzQrfd+7fP6qrNE5DqsGkSMM4fnP6NgxDJaRjWsPOgCCaFxUECEi1mM4pIbZtK6CoQaM0rnmDCL6bjE3HUETZtpYXG00DDStX4eb5s9M8b5SEhoYnk7t2p723tx0ELYhpnOSff/nl27MzqZTrurZj/3ZEPXjwYH//CBUNu5pMSsELpR588L7Z63xz/lazu1G2WcdpmrUQ9TjwNpsOk5bXCvKixFS3HNeyHc0wojQ1TFfXfdYAyaBreVmal2W1jjacC99v1TWDEAEAOReabjDWIEzqpkmztKwrzTAGW8O6rrOsoFTTqaGkIpCwsjGIHrQU40tEo60t/Od/8a9OL7/o75gcVJSSNM/+zb//91e3d+1u17LNqiiAFEBKJZSSUErIBS9ZyZQsci45RJJulsn4bsY4qxUrOX/w+FFZVTfX11VWZOt4enkrmaBEH3S3Wn6HN/L2cgoZNjVzFYW6bUoIBASabWRVlpVxu+cvlmPDwYAwL7AQBElYlnGTrEPBmFLS9b11lEzG87KsAcJE0+ercLlajSd3ACrBGRdiNl8ggYnf6weDLSMIJmF4s1y0t3cERFE6Y7Jarorb+WQWrqeLMqnycLMuqrrhXCHEFZAQBu22BCgva95I2QidGI7tbuJEQdQwIaQSUgGILNthXBRFxaXcxBuI4OnZ2SoMG9a0O22qaQqqqqqiaEMQJhBhCNt+sN0+MVFrd3DP0vusxs++uRkNnwKu5VksgQKIMAU104QIUgKBEggoJRUERALIpBRQKEggcjTiJ6H45S++4bWWZ6IouN9qO65PiMYbnmwSwNWg3YMSzybLxWy5WSW8kse7hyYy9kf7mBLDtPOK5RVTEJmubXlm09RlVa6jZZgsxrPbYX+LAjteluk6pVjDVGNSpUXh+r5pWJppWZ6nIBJKrcIQI3jv3vF0OlYQkP1HDy8vV19+/31n2LkeT3ujPkJkNpuIJuYCsQa1NBVnUyArwMI0A36nY7vdNM+lauq6DJzOOt1IwCjS+t2+57gVwwqwTZIUdUXygupGHMdFVWuahghtqrxmmQSAcR6u13u7O1ypvCwQBhUrGlYLqSxN41VpUvTxx8ePHg/C9Toryj/5039yeT0um0Vv4I7HRVnVmU5rIaM0k1JSjSIgAESCSYAwUAghrJDkkmsY2aYXh7lrUx3bUulpztpYhfNlGiUmNTrDLlGYEO1odzTk267rlFlzdXVKAfYtX9eh77YJNo72j27Hs1qUu70ticrNdPb4nfd/+ZvPG9GwrCaMDoa9rdae5+kU+dGygYoe3T8+v7ywbFpzXjHRcK7rcGu0BYSajG8lBDuHe6QAKswzDmHdcNPVeMUsaobzsU0cTdMxARjYim+CHktTuYmZ5QST2QIgMBq1BavKqqmarKyywO5QopRgjm1vko2CxLQN3TQhhIvlimgaJqQoSyGFlAIgZNqWkhxAIJWiOsmrCGFxcrxnO85qNg2cQcu1P/vNL23HjJJ4/2j/6vpiPJ5LJU1L8313s9l4gQcohZhABBFUpk45A0DBsmwYFxIABRUHRZIXBGgGMuoKSYUdT9/EC8qwEgJKUJeVoRtZmk9nc7fbGg52ri7PDWqcHN4nGEAOV+Ha0k1RwXCWWMSry3Q1DfOmoMBeryoFNICJEqyu6rcvzh88OG4g7O30ZzfXd3fnSilMZMOzzbpsGqFblqbrCkjBRZJEZVMCXRLq2MQyB9s78WbVH3TjVew5PdQgIrcIQn67CVdik+cCLRx7ZDowz7hmmBKKMIq2ep1sUxw/2FWyWtytl4uJ73UC2i3KOs2Ldi/I81JKSagm6rphAkEIAHRct6pKwzSrIp8vFggiiMD+/jYicH9/VJZVqtNwOTNw7+/9/t+9uDoLV+HlxXUYFfNVjrCfJYVtmUkae62WhIhomgISQawRzJqGN6wqWVFWmkmUhMf3uq22horqoNfCQLZ6Qc0WTJZEdoKghY7v3d7d5XlhOk7NxXy1Pru4TKKNZWi7O1u9ThsDgLgss03T1A2E3e6WBnkUJm7bqRN5fbksS9kfjl6fvoZSCSjLuMk2hWMWUmHDMqsqv/fwIFxNqowhbPC6idMUS6Bj2gr8bX/oDTwSXm8CvM3leNTt312E/W1wcOIQsOPSY03zV8mZZi33+v0wmmlom6pVkycYcARAU+ZFoUEMdvcP1+vV3c2ai6ZlUNO1yrJEShbFyvdbTSMAFLqh5UWpECGYykZUZaUUj9INIaDgTqvnBBImufb69bM8ZsNut1DgYH//6Yf32zsgBWfvPd6jkL58tcia8vomtbS251g6wskySuKEYosxFRfNYrmOkoIDpRmYCXl0svN/+u/+sd0W168veFpGq3Vapy092B7s8AWZTnIEsGRIJ1rH82VZr+fz04vTk5OD/qhtd7QchHkRr4t1kSIgMSuLQhLOm7op4k043D6cpZsScinkzqBn60bNRFJm/W5vvVnXdVlkWV1Xk+sCYwgaHkZTXdNs007LEnu+4ehZI95++Zb85i8+d6x9y1PLLLmdrHs7W3ezC7ez//b71/MJ91raJ7+zE+WXyzBIN0RxvUgz0zE67Y4A1vbO9s3NzenZ9ds3Z0DK7e1t3bWQhpTkjmlUrBa8UgqwppQASSVd1+F57rsWRrgsi7IufdvOWUorbtsoS9ePHzx48+LKMW19gM4uz/+v/7fPdk78dz/at13c1Z2dnx395ecXeVFplG0Pt5o8VwLWeb1OMwGAhCDLSwAAppQJJpVKkzJcZci2lebqbe/N169kxdudg+3uYJGFrhNs1uNWq2VZZp5GVZHphD64d6/d9XSLbPIlNmRULyKehTFt++0aiqv5LVFqZ2tgNIAYcOt4OItm0XK+2+7cnF8S13W7Vl5mdZSEy8S126LhRZpjjFuOJxn3vMCyneV6ExdZIRoMzThqiAAAaDHVRzJv9o4Gjr37m8//5nc/3WkH9tX5lQTk/C3bZLPlvKJIy5cJJlDX9bphRVXq4cbzgjQrGGOmrud5DhXqdTuUEABREPTX643favleax1FgjV1VRgEc84BgGVZV2WFU0g1LbuKApt89PgDwSmGchOtBlvt+SI7Orn3+KPj9pBahPlu79//z7++nNUI601dnXzw0exuslyEACjGqrxuhEIU64hgKRRUCAG1mmf//f/9//vw6e7943s61ubnpa3ri+tqv008R3v58tvuwLUd+255t7e7u7zdaMC8d3R/73D72xdfIE2iRoqGatjZHrpNJUydAkJ0TIiGDcMqmzxMs0pW3V7P1m3LDnKmOu2BQ9Dp6RWQStc1CJGua2VRAgAGg0FZ1kmSYISAAoEfVCUb9D3y/ocfn19/HW5s1+tk9c2/+Bd/5gbUsk1tQFwHd3q91WKV5Kzf2Y/WzHZMVIEsyzVdOK63nIfdbk9KoOtGVdWcJ5ZhZllKdSyFbEqGACIQ67rOWGMYmuRNreBqGRV10ekFW1vbCkmMNVFWdaTKzbpsZJYkRV1AnT1+7xGr0a8/f97d9ubXk/ePH3/7bGx3dwzdawVOVVXitx8MRHPv3tHpxWVeNAhzhCTCsCxqCAmCRFYovI1ex29vLq47ftvU3SoSq8laR2vX0/uD9nfff9cf9ThVW0e7MEXHhyfnV2ebVdofdWzdxEjHoFIKMNk4ttsOWkWaMValZe4OuxBIoGSWpul4BQXWqP7Zr775wdMjJIGGSVNWi8VqHUe/JbVboxHnrK451fVOt6uUAkAKnpPNeuk4Oq/0vd3tl2eXOjGH/Z3FbL4crw0TBL4Vbqzt4UlRNNFmZWINY6xpOtV0hAiERErEGajKpiwKz3OVlFIKAGRZFSIvTdsqyyxOE8EajZLA86FSQLJWK3AdT0GxjtZSqSrnaVo5vu+43uMnj5li/VHH8azP/ub7Fxdn7Wl3NVl/+VcXOiZP23u7Ozu6Bp89e+aYlmUZq2jtuJbr2VzwP/4Hv3t4tP/rzz779W+eCcERhpLVgdmlSjw4PjjcPXAtJ4kSJes0W9dNzkS9vTtIitR2nEbIeBF9+9U3DHCNmHUpqjotm6LdDiwXOboTrdNoHeVpCpRomoK6dhJtoEkBF5BJKJBlmaP+EArp2TZFMskqTMhgMAjDUNNI0zTdXu/q6mZrZ0fT9fOLy1bgAaGR6/O3tcjunQzurl4tJhvP0R4/uMeq1XtPH67C8rPffLO3d8JrUZWp48AqqRkXUkIulG37ZVEjlNmeMxyOyjxbLud1qy6r3DB0w6BJGmfZ4v0PPnr5MvYdu+GirirXsaSScRTfjceub19cXkgg7x/fb3WG3V6XcTa5uSvKfDxbllXJUoGBcXu97gVtzjKL0rZv1UpcXFxKKSnBrmPvazuz+RQigLG6vDjVDfCzn33c6we//OW3UZTbpuaaCCjw7tN3Xn//iu7uKsCieOVayMKWEjJcrBDBt+fXvd6wQJhQtJiFYRy2u22skzBaR6v4/QcP1tGq1+5HmyTLKghFp9uRlQKVipNNN/Btw94sok5v68OHT4p4tlqnRZpRTFjTBG6balq3202zzPdbw+EQIaRr+r1793zXXs5u4P/hd3f8YAvpTCqUZEgzwSbKHt0/+uSTx7d3i7OzyTqsHdflIAWwuXy1ZkwE7Z4C2La92XxpmY4TeA2rkmiNELBM4nm2aegIcoBKiKhU+O52kaY1oSbGuq4TSvFqvdYMfbFcGabWarcms3leNLZjB75X5kUcxVBhjWo2wuPNehylvuuf9AdPHhxYPv7r33zecIo4swzd0LU4z+6/c6Jb5uvnt6/evAJI2q7+gx+9W9fiF7/4ervv9AKjqmrH8RCAgd+yLafbbbdcZll6K7DLMo3WUeC1OVNxGAKlECWGbRGdXt/dSqAe3r+Py/ry6u74+D6l2u3dDUTKtDSTmJKAaTRvymxk+y3Hz4T44JOPLk9fRUmhGd5sGVeMO76bFTlvZH/QlxJcXd90ev0HDx9d31zfXF2aGiLddsv3Bq2B2iQJhhqD4WjYbfu91SKUrNkadNNkggkQkO/ubyULGLQ6YRiH66RhynbcPC9d4CZxXNW15zsYYYzw9fUNwuL994+Gg+1vn71O09T1ukKgPC+ZwIJzKXhgt33bFgh89e23WNPCJF8n8XqzGQ22TNOrK1bXynNQt92JGwgkCTebvG6ZSNva8V6frjzDNmyt3/d3jJ4C+PPffOUYw4cPHmHKhqNWUabb2/tPHu3rSB3uDK9uZre30+FwqBkuRPRw/0SjEWuKxTJcTCdKyMBqredhFIWDYZ/oel3VcZoYmiEB8N2gZsn21i5GWr+3tVqtJ7NbT9gSScf3PM0WANqGmWdpWtdfffYFIaCp+eu33w2Gu3meciWSOCWU5lmKMQ0Xq+FguJrPX79+bRsGbwSRkuhmjaDebnllvVaFrbhFITWgpVnmo+NekS3Dcrl/tLO1vffqN9P1KszyBkBc1rVJcAMqUceBSyaSl6wAFbm3c3R9PRcYzu+q89cvAaL93lHd1FmVAMQrpAMIDVZbZfWDH36YIfnFs28AlFojNZ3UcbwhyHI9TlkNxIZnrtPTsVELdJetfzDUHv38sBvbT4uPZGH4lrKtOVHF88/KNvY//ju7u6Ojf/9v//Phbn/QH20N/I65GF9cH4xIWbTuZkmYVl6e9hyvStL2kc+5WTZ8e/8EAjVbr5UGzE6/NTpezmeEaLLkQCqTUtSA8Sy0bGc9nitI0qzodvsICRPoXcvteuZ0cacoDjdlp7uV5VVeF0zk3YG7teO4LaMsYB41TstgPIcVGtk2jJPFJjrYGSVpcXt5SwzT1E0DUbwM55qOMNbzvNl9uEV0gQVsmrrrtw92DijVXv36ZV4UChDDMCtWCikxJVKq9Wb9wx99rO5uFtNF0OoURdHt9jbFsqyug3YPQUsq8/IqrlLGudDspi4zTUf779z3tvq/+eu/6noek0oLgFJSSl4UBdENgnFelEXNpcjaHW+xiWxN85xOOKu/e3FV1vZPf/TTw53e3VVJifPBe9bXv3l1+tKYXBXLSfHL6FtCsqaq/tt/8sf02Pn1F88urptGUMl4WeTAci7Oz6Cx1R/0sjRHELR8j1K9LIr+oB+Gi80mNHTd1PXNpuQ1v7mZzFehWTRVWfcGW47fohQYFpUZy5ko05Ropu/7mmZ2O/35ap3P8067c3V9uo7WntdrtXba3VYhMqppQCGv7cVZknOuAUENfe94h/RHw9V6PjA7ru9iQnXNpdRWKM3rzEZOtFhfvj5/ePJ4uLON8uuDo0OE9a++/r6sRW+wFcexUNJx3MFg+Nn3z8qyjGCkIyqV2t0dnWwzwWkciZOj+2Wal0lmGiYrUllmeqff3t/+y68+f/769bAzmM8XhycHXKllGE2XK4iRYeqc1arS87zR7FKItCiLf/Ov/teP3n/08vXtdJV9+6sXBPDjvR1HR54D3v1gcDOrv3r2DZJ2JSAmSAr44tml1MD5JGPKhUTTdcg5b5pag/D2dlwUZZIUW4P+2fm1qWtbwy3G2W+34V3Xk0ywRmEIp7PVzv5RXbGGRWGURFFYNflo1PPNFsfaIkq7bWe1iihBf/WLX3ktK67yTs87ODyazOa7e/tCaOPJaprMO62WplCTV7bjwrKqmjrM1t1emwCKKsHcIHj79oWUcn//UNPsbH43vn4z7O4iZWoUh2m6azvCtJ599ZVtBwhjKTlEEFMiRcM5f/b82XQ66ba6GOM8z0spfGidvrlbh+n26KDIk5/8+L2//4c//e7ZN/kys/3gLg3/x3/9/zu9uPU08tHjbVlWrEmWYZwz5HgOwqipSoogh7oQeVGmvm81TVGmFc9pz9sztBzKMg6jq7crx8QnJ2Z7n1pRvb/TWk1rJWtW5Tu7rc16HtZQIJMYJmNQCtZutWzHQhJtNnFd8f29vaZpMNQQ1OpaZkVWVUU76GBMWCVM0+INq2u+2mxaflczzIrxmolWuxO0u1lSCgBMx19uYlND21u9rVELa1pD0fcvXj197+k7j7e++uqZbniUmpQYhmbrhBqaJQHAgofrEFKACCDPXnzHBVv/MjR0uru9rSQaT6aBKvatdtdtbTLutbz+0c7uBw/5i2/my6WelhBqCuu3k3G718GEpGkatD1N05MkOTzejpbrRok8axZXtW21oojdjacINZ/+9MM//oef8g04vRwXN+LVn/1VnIMCg+evXn345EG3rz97dfnrb17XAvZ6nbbncilqwSD6rckhnmWZ1DB1fVGu66yyDE3Dxo8//jhNplV1R8jg6ePW1VmiKmaaLqY6wuXHHz9tSOs//uU34awUnGkasE2DaBoQWJcWpUaalAQjCOnZ6WWn3draGQlRS4nms2W/2wUKcIwdx2jqytQ11GppGi2yOFwtHUcDACtIwiiyTbPd63KlLLcNCHx8fOLfddrtUV7UlLqU2kVe6tjEgG42CQQKIshY4xhG0GlhgYjf84f94WI2t0wbAANjSzRVUjWbNMwb4nX7Cqnzi9c775xULHF91zDc9SYf9DtXd2OcxEwwDBWEAAAQx4lSyrKsy4tToFOvM4yj2G1Zm6Qqi82/+3d/Nhq1f/9nv/vBD55+9eqFR7T7T3bLunn29opq/Dh3CCZP3304XaZ5nrG6OjnYO79ejWdJUhR5XjmW3u0EUBXdNiHYGnT33r5+/t4HB6tV3fK364YNBuDuYm4Z6Oc/+/EHH93/6pu/ubo+e/42nE3K/dG9sqiaelPm2aA7WK+zdtBaLZdZnCMEKcGm4XTaw9l0LaXM48nOzsh1vTxPhKx0A2WbdDa93R7tSsHbvtMwTBHUdZLEG0PXglZXKDqejNfharS3JcIEInO5zK6ux7bdwUSbzdeirn3T2eoNL68uO92WEty1XANom1lCuKwNx9AMSynS1HA1T+bTEKLcMEg0n21even3hiVnZ1/95sGouz45GY+XhNJWu7VYbxDGCAjPsXXdgAi6rpumaWB7e3t7t6upbeDRcFcAVVSK0nYraMVR9e/+03/8/d/7Xd+2Hh3uf/Sjn3796sU0DAWFo0HnwQeffvb8Yh5+Ha6znudhBAwDSSV4AyQGRstONtF231RqoxOzG/TuDGMy/b43YBjpLDagKtt+8Pyr04u3l02T6qb27pP3IL7KklNRpr5h2/3Ryf3Du/GqrkHgmf3BVrJZG7qGERz2+u2gpRne1dV1p9XOsuL66kqqWvDKNAwkBQEKSmFoRAmNYq4TKJoMAQYBXC1DTI2iAeusjN5ctHxvsQj9Vq+qRVkpqUAcFYfDwc9//LNNvJ6M7xzTKpJ4q9vTiW00Dok28Wa1Qph3Wi3P9iWHmGAu6qJMFovw8jYppe/77Yur5PLymglQFimGFEplaQYAQAjUNE2eJAO/U9dssVkLAKqmBjWjuqYkKIUwDHsdbaoy1xDobzv/y3/4i6bmH374kNUL1Cx+/tGh71nE7b69unn+6rkX6D9sn1BWl5slImAw6ii1ieJssw63t73f+bs/++rLr198O6vqcnfn4M3Lye0t30R3nrttGsH77/6IN/ZkPKbzJsvi7e3R9WVYlSLwaNnkFmrlBcuLcjKZbrUeCUEIolIo17GEqubr6zQtfJ+aJplPx71uEOdr3YKWBTrHUsdNA0PHGTXA4JJPNrlrGEKBipebeEOoQTSdK1okueMSgI3JdGlaTlkyKRVQ+GY6+Y9//ueu5zYc3NzNg6BVcYKIpAEngecURbYz2lstN0VaWaZdNxkGykQYC3m0v7d3cOLY/v7ByfPvXvW3+nXFs4JdX15IQCBClm7qOphOxr3hqMxLomvrPPE8z3FcW7cM3QKNjOPIdy1RpVmWbaF2w2ScJrsHO8c7I9uGr1+/CWdJXYnTm9uorCFAu/3e3mh4d351t4oQNUejPm9qSoHfss4v315e3wpFxtPrXqsNRavMM8YxpLZmjL5+fv7izSUC/HH3nSeP33354vuPP/yhhK8MQwcA6LoebWKo5N5o0FTFJkraQbcoKy5Kw4T9YdAbtDeruMqLlu8jhDzP7ww8jkpoyGyTC4nq2cy2WkQzPdOuizpNc6prmqGneVFs4mid6aa9WhVhmAIFqjLlXNi2gzBp9/ybyZ2xNjRNs0xTKnQ3mQUt23Ywev/DR/1e7+pidnux9qzhbLJomlSnvM7XJpX9tr3d90WdtD36d37+ye/+/GcP759QjACQnbafF2nQcinGe9vbO1uDusqPj/Y++PC96XK+zpKaNetwqVMkmrKpC42SnZ1twzS2t7c9z/vm62+TOOv3ty3bVRI2Fbd0e9jpH+0f5Vm1SYr9wyPBUJHVdcV0ndq2Zpu6FOzhw5Of/fyHabaezyfdbptzoSRMovI//fUXn317+uz1LEz4eLahxESA3FxfH+xtA8kVb6oixUrYBm0HnuP7lmNLoFzfS7OsbliSFHXdMFbqOvE8hxINAn2zri5PF+uJsEnfNweIE15xixqOYbq212kPXDvodgZB0K7KxvcD3iggTUMPWq2B47Rc17dthxKNarhhFaXYdW3doNPZOIrXN3fjl2/vyDqcprFqSjUaHOvUh4pA0PjtVq+/VdXi5nb83cs3m01yNV05tnN+dTWdriRvdM2CUArZCMVNSmzLypLoYGdQlckyWgkgFEGaobOmJkiYFPq2sTXsdfzganyJCXr69N2zs7M3b86ePHny8MGTm+s/T7LlJi2IYfFampohhaKGvrezvwxjioltmkJk7cA7Pjp69frsq69/A6GkFDHW6LouIayZjGuhYccJgprjNGNXV2PXab+9eNYByHNM1jRlWUpeZ2kqWe3YNoDw+u5qa2vguJ5tW7P5MorWBzujaJ1qJgUAEmwwLjxnmyq4mTfuyAY84YALWURpYphBluUKcYgBwXq32y/yivFssZwOtwaddgsTpJQoqzLPWZ7le7sHvudXdYUghAA3dQ2Frggl4XLt2aNhP9Bxe7lY3zt+0GqDVZq/vVsWeZ0VfLGILNs7G2+UWOy3zdGw32qpdVrqluH7XprFdst/ff5Wp8iyNMXKu+ncDto8LuqmJhjqFB4fbg96/fUm/PLrr8JoWRQ5Z0JwMJ+tWPP8k08++dM//SfffPv1Okoh1uMsS+PId/S3F2dFjraGwyhadTp+XYGLs4s0DYuyKsraslrtbgtC1e12b8bLpq6khIBqCuK64a12Ly/rju+5jpvneSsIMEKWZWVZBgEwTFNIhQgBCKzW4cm9k62dnTSvEKrqmimpdE0DAJ48ePL8+1d5Vdc5Z7VgNVASSa44bxCkdcWVBIyLTq91fXtDiNZqB5igm9vLZVgfHHb6/f5iuTBtU9M5Z9D3gjTLXr1647qOpulKYR0bSlFSJAo0pU5MzWhYnWeJ0oh5eT6+miw4k4hQ2wkwNjQNGhQPu8bh8YPvX18WjdhEYafbCnot2zLW0cLxzN/9ySffPXuelUUpVOC4URT12/7h7kgjaDodL1frOI0xpk+fvnd9fWtZdq87ZFy8fnX24Ufvvvfe4zQpGq6EAi9fvfADu9M7/MVff79cTraGvaYuEDSi9Wo4GO6MtvZ2rZffncdR7DidVtunpvVf/ubLijVMo3ujAW/qosjjuvQ9b7S7Nw/DmktKKMQYUb235RFCasaDVoAwqJtKCLFabVqtfp6ulKSdjsMZ970AAmgYNsBG0zSaZoz29jSCvn/xMs9LpOmUEFZks/lEM1Cn42uGeXZ6BaB89937vV5/tVpFp5FpWFKqupJQGXe3y6ZpBr3dNE3mYbS7txPYvqnppNfez7JyMrnZ38W+7+R5macFEbBrYOraAFEAtMVyozPxh3/w9yyUL1Ybz7HivIyK/Obmklp4tL+98+AoX052dodffv4ZVcpwXc30/cODpw/vORq6uTilGMTRGkAgucAYB0FrsVwtF+s/+IO/E4bR69dv7z8Yjm9vXTdgVf3Oo5NalI2ohBRNU4/vbmzbsEzdc1pA6OO7EOE0TYosymwXY50bjq/p0LP17dHW7vZOmmbjm9umqfM8e/zu+1pem6bR1I1UUjNs3TCaplFCUarvH+xRisuymU9DpShFerjKzJGlJNM1bTabpmmMNctwnU7gHp0czudTrBEduJAaRZoyVgVtT4j6d37nd1zP39vdfv7iFUG43Rqwhj779iXnsW16BwfHnFem4WNMEIJNw9qdtqbpvEiHLZtYRpvXkW3WTZXyMteIaZkeK8IHu9uCq4P9g95g8JvffOkFva3Avb6ezBehZvtVWbGy3N7emi7mZsdrea6tBptN+vS997/97pVmB47T+uDdd8c35w1kQdtvd7pYt3/9+Tccgpu7u07QwhDVALU6/bLiRbluGNsabb18+UYqJQAIun6eF//sf/cPl4vVi+fPlQSmpgEnMHU7jtO4DLf6bcCYSeHs9sbt9N55dNxxDN40q+VYSUWpevLkKYSIK1aL5vLNVeAHvV4PUyKArFltaySJNvNZ/uTpIwSlaWuu3fVtRyfA1NHF2WsuFUDAcu11lAWWnqTxZDHdhEtE4PvvPK0byesqL5KiziTg19c3pmXpun6wu1cVstMaUuwLbjY1AErTDde3FaUIKODatpSizLMwDB0dOJZG0nVWF3XbDiiCoi5dgyK26rbdDz78pNpk2z2/btYfvjPi2D+9uEyy+m4Zd4jteW3ZKGjrz25Ou9ttFW1UxKZBNkvSb16fOrr2p3//j9e3kzKNhjvtosmfn79eLEu3NbzdLDxNo0gMui1ldv7DX/2XUT9IN9OKF/fu3+8MRkVRWaYdhpsyB99//0WWp4YBtvpbigGKNQ1rvY4roRz6Hs9TIGTeBMFwlDZNOJsZBk2ShnM2GrU9TxsMuuc3462tIM/DotiEa0YpBhBYBvUMqJFA+Z2mqChmmta8fv1Vxx8qyd95eK+seVrUd7O5FbSoZTR5Tgzt9fevGSt9zwIsalv66d0kSvMGyLTIvSDI07lOiGe7WIHxzZXluacXz+9mG0LdvOCjvUHL83zbD9xqPZ80RaxEPXx632w7hBfR3mi0XCzjrFRSBO1OVuT7O8Px5A7XoMnWvZ5lWfa3Ly+ms6wR3HWduq6F4ACC2Wy2vb1zcnKyPLt2AytNE03TpFSe5zuuc3M956ppJE+K/PTyIkkEpa0PPnhf5BvMKgDRNAwFRKvlMlkvuWBKgcePn0zGU98PyrLyA9/ualmWIoCggEiiNM6bphFKbe9uFeu1Z1qCMbfTyTjPssxxHYLRzs4O543rOvP5/Prmsm7EvfuPBm2vNLV2u6OUsC2rrkvVNH7g5wVr6pKaQNO0k5N7gon5dJxl0e7ONkQkTQsnGGBK6yTUNbxYLqJoZRo0XC2zNMbIKpmcr1d5Xe7s7W1WoWCs22p32v7e4JAaervjb7IiihOE9fVqkseraw4kk0oIoBhQnGMgCCQ//vDdoN3+q+U8TRIulRXnEJO0rF99+7lLbUcD+wfdRon5PKkqXHOWMWZ4RAgBACjLyhtsU0p6vd6eP1wtQgiR73nvvvu4rKuC1URHDEhi6r2tQaMShMy8KN85Prr49mvddKNowwCiLVsptVwuEUKvX7/utLvL5Uop5bpuuJk5js0qdnZ25lp+FqVVUSOMsyLpuS5itanrWZbFVSOlYkokcYYJ3t4eCcEwRu+8885qsYpXC0fD2/2RRikAoGmY43u8YRghSmmyWR1sbU2mU9M0jYD0ek4WxbapJ2nWafdfv7qEGG73TccyFJCEkCAIXrx45VjW0fEgni1Z0yCEIACcc8e2Pc9O0nA2I51+v91xi6aBOImT0jKoodNwnShF8rqSStZNtfj2+y+//fr/D0IYverPxbIjAAAAAElFTkSuQmCC\n",
                "text/plain": "<PIL.Image.Image image mode=RGB size=128x85 at 0x7F3CFCB41E90>"
              }
            ],
            "_view_module": "@jupyter-widgets/output",
            "_model_module_version": "1.0.0",
            "_view_count": null,
            "_view_module_version": "1.0.0",
            "layout": "IPY_MODEL_4aa8d0e5376a43298b533f2b15b10c5f",
            "_model_module": "@jupyter-widgets/output"
          }
        },
        "792b08bddc7046f9a8b19e5d5fa36a24": {
          "model_module": "@jupyter-widgets/controls",
          "model_name": "LabelModel",
          "state": {
            "_view_name": "LabelView",
            "style": "IPY_MODEL_574cd0e2ba0c471b9c12be07cda38539",
            "_dom_classes": [],
            "description": "",
            "_model_name": "LabelModel",
            "placeholder": "​",
            "_view_module": "@jupyter-widgets/controls",
            "_model_module_version": "1.5.0",
            "value": "Prediction: grizzly; Probability: 0.8727",
            "_view_count": null,
            "_view_module_version": "1.5.0",
            "description_tooltip": null,
            "_model_module": "@jupyter-widgets/controls",
            "layout": "IPY_MODEL_76ba3efee21344deaf47c5bc0d4956b2"
          }
        },
        "9ba3c0b4c8ae498c987b9cfae3de75b5": {
          "model_module": "@jupyter-widgets/controls",
          "model_name": "DescriptionStyleModel",
          "state": {
            "_view_name": "StyleView",
            "_model_name": "DescriptionStyleModel",
            "description_width": "",
            "_view_module": "@jupyter-widgets/base",
            "_model_module_version": "1.5.0",
            "_view_count": null,
            "_view_module_version": "1.2.0",
            "_model_module": "@jupyter-widgets/controls"
          }
        },
        "b45c23de30a04f7f89db04570ecbdc12": {
          "model_module": "@jupyter-widgets/base",
          "model_name": "LayoutModel",
          "state": {
            "_view_name": "LayoutView",
            "grid_template_rows": null,
            "right": null,
            "justify_content": null,
            "_view_module": "@jupyter-widgets/base",
            "overflow": null,
            "_model_module_version": "1.2.0",
            "_view_count": null,
            "flex_flow": null,
            "width": null,
            "min_width": null,
            "border": null,
            "align_items": null,
            "bottom": null,
            "_model_module": "@jupyter-widgets/base",
            "top": null,
            "grid_column": null,
            "overflow_y": null,
            "overflow_x": null,
            "grid_auto_flow": null,
            "grid_area": null,
            "grid_template_columns": null,
            "flex": null,
            "_model_name": "LayoutModel",
            "justify_items": null,
            "grid_row": null,
            "max_height": null,
            "align_content": null,
            "visibility": null,
            "align_self": null,
            "height": null,
            "min_height": null,
            "padding": null,
            "grid_auto_rows": null,
            "grid_gap": null,
            "max_width": null,
            "order": null,
            "_view_module_version": "1.2.0",
            "grid_template_areas": null,
            "object_position": null,
            "object_fit": null,
            "grid_auto_columns": null,
            "margin": null,
            "display": null,
            "left": null
          }
        },
        "30bf762f7c4d4dcc93611446249be4bc": {
          "model_module": "@jupyter-widgets/controls",
          "model_name": "ButtonStyleModel",
          "state": {
            "_view_name": "StyleView",
            "_model_name": "ButtonStyleModel",
            "_view_module": "@jupyter-widgets/base",
            "_model_module_version": "1.5.0",
            "_view_count": null,
            "button_color": null,
            "font_weight": "",
            "_view_module_version": "1.2.0",
            "_model_module": "@jupyter-widgets/controls"
          }
        },
        "4012ca9080314e03b0ac5426a5776b25": {
          "model_module": "@jupyter-widgets/base",
          "model_name": "LayoutModel",
          "state": {
            "_view_name": "LayoutView",
            "grid_template_rows": null,
            "right": null,
            "justify_content": null,
            "_view_module": "@jupyter-widgets/base",
            "overflow": null,
            "_model_module_version": "1.2.0",
            "_view_count": null,
            "flex_flow": null,
            "width": null,
            "min_width": null,
            "border": null,
            "align_items": null,
            "bottom": null,
            "_model_module": "@jupyter-widgets/base",
            "top": null,
            "grid_column": null,
            "overflow_y": null,
            "overflow_x": null,
            "grid_auto_flow": null,
            "grid_area": null,
            "grid_template_columns": null,
            "flex": null,
            "_model_name": "LayoutModel",
            "justify_items": null,
            "grid_row": null,
            "max_height": null,
            "align_content": null,
            "visibility": null,
            "align_self": null,
            "height": null,
            "min_height": null,
            "padding": null,
            "grid_auto_rows": null,
            "grid_gap": null,
            "max_width": null,
            "order": null,
            "_view_module_version": "1.2.0",
            "grid_template_areas": null,
            "object_position": null,
            "object_fit": null,
            "grid_auto_columns": null,
            "margin": null,
            "display": null,
            "left": null
          }
        },
        "1a0c3d74eaa94a82a3301c547bdf3480": {
          "model_module": "@jupyter-widgets/controls",
          "model_name": "ButtonStyleModel",
          "state": {
            "_view_name": "StyleView",
            "_model_name": "ButtonStyleModel",
            "_view_module": "@jupyter-widgets/base",
            "_model_module_version": "1.5.0",
            "_view_count": null,
            "button_color": null,
            "font_weight": "",
            "_view_module_version": "1.2.0",
            "_model_module": "@jupyter-widgets/controls"
          }
        },
        "c22ff3627d054eadaf7e35fb7d351294": {
          "model_module": "@jupyter-widgets/base",
          "model_name": "LayoutModel",
          "state": {
            "_view_name": "LayoutView",
            "grid_template_rows": null,
            "right": null,
            "justify_content": null,
            "_view_module": "@jupyter-widgets/base",
            "overflow": null,
            "_model_module_version": "1.2.0",
            "_view_count": null,
            "flex_flow": null,
            "width": null,
            "min_width": null,
            "border": null,
            "align_items": null,
            "bottom": null,
            "_model_module": "@jupyter-widgets/base",
            "top": null,
            "grid_column": null,
            "overflow_y": null,
            "overflow_x": null,
            "grid_auto_flow": null,
            "grid_area": null,
            "grid_template_columns": null,
            "flex": null,
            "_model_name": "LayoutModel",
            "justify_items": null,
            "grid_row": null,
            "max_height": null,
            "align_content": null,
            "visibility": null,
            "align_self": null,
            "height": null,
            "min_height": null,
            "padding": null,
            "grid_auto_rows": null,
            "grid_gap": null,
            "max_width": null,
            "order": null,
            "_view_module_version": "1.2.0",
            "grid_template_areas": null,
            "object_position": null,
            "object_fit": null,
            "grid_auto_columns": null,
            "margin": null,
            "display": null,
            "left": null
          }
        },
        "574cd0e2ba0c471b9c12be07cda38539": {
          "model_module": "@jupyter-widgets/controls",
          "model_name": "DescriptionStyleModel",
          "state": {
            "_view_name": "StyleView",
            "_model_name": "DescriptionStyleModel",
            "description_width": "",
            "_view_module": "@jupyter-widgets/base",
            "_model_module_version": "1.5.0",
            "_view_count": null,
            "_view_module_version": "1.2.0",
            "_model_module": "@jupyter-widgets/controls"
          }
        },
        "76ba3efee21344deaf47c5bc0d4956b2": {
          "model_module": "@jupyter-widgets/base",
          "model_name": "LayoutModel",
          "state": {
            "_view_name": "LayoutView",
            "grid_template_rows": null,
            "right": null,
            "justify_content": null,
            "_view_module": "@jupyter-widgets/base",
            "overflow": null,
            "_model_module_version": "1.2.0",
            "_view_count": null,
            "flex_flow": null,
            "width": null,
            "min_width": null,
            "border": null,
            "align_items": null,
            "bottom": null,
            "_model_module": "@jupyter-widgets/base",
            "top": null,
            "grid_column": null,
            "overflow_y": null,
            "overflow_x": null,
            "grid_auto_flow": null,
            "grid_area": null,
            "grid_template_columns": null,
            "flex": null,
            "_model_name": "LayoutModel",
            "justify_items": null,
            "grid_row": null,
            "max_height": null,
            "align_content": null,
            "visibility": null,
            "align_self": null,
            "height": null,
            "min_height": null,
            "padding": null,
            "grid_auto_rows": null,
            "grid_gap": null,
            "max_width": null,
            "order": null,
            "_view_module_version": "1.2.0",
            "grid_template_areas": null,
            "object_position": null,
            "object_fit": null,
            "grid_auto_columns": null,
            "margin": null,
            "display": null,
            "left": null
          }
        },
        "4aa8d0e5376a43298b533f2b15b10c5f": {
          "model_module": "@jupyter-widgets/base",
          "model_name": "LayoutModel",
          "state": {
            "_view_name": "LayoutView",
            "grid_template_rows": null,
            "right": null,
            "justify_content": null,
            "_view_module": "@jupyter-widgets/base",
            "overflow": null,
            "_model_module_version": "1.2.0",
            "_view_count": null,
            "flex_flow": null,
            "width": null,
            "min_width": null,
            "border": null,
            "align_items": null,
            "bottom": null,
            "_model_module": "@jupyter-widgets/base",
            "top": null,
            "grid_column": null,
            "overflow_y": null,
            "overflow_x": null,
            "grid_auto_flow": null,
            "grid_area": null,
            "grid_template_columns": null,
            "flex": null,
            "_model_name": "LayoutModel",
            "justify_items": null,
            "grid_row": null,
            "max_height": null,
            "align_content": null,
            "visibility": null,
            "align_self": null,
            "height": null,
            "min_height": null,
            "padding": null,
            "grid_auto_rows": null,
            "grid_gap": null,
            "max_width": null,
            "order": null,
            "_view_module_version": "1.2.0",
            "grid_template_areas": null,
            "object_position": null,
            "object_fit": null,
            "grid_auto_columns": null,
            "margin": null,
            "display": null,
            "left": null
          }
        }
      }
    }
  },
  "cells": [
    {
      "cell_type": "code",
      "metadata": {
        "id": "JxtV0t6gL4JR"
      },
      "source": [
        "!pip install -Uqq fastbook\n",
        "import fastbook\n",
        "fastbook.setup_book()\n",
        "from fastbook import *\n",
        "from fastai.vision.widgets import *\n"
      ],
      "execution_count": 2,
      "outputs": []
    },
    {
      "cell_type": "code",
      "metadata": {
        "colab": {
          "base_uri": "https://localhost:8080/",
          "height": 1000
        },
        "id": "NcDYneJyN6S0",
        "outputId": "e52d5856-ac76-42de-f553-2f86428739bd"
      },
      "source": [
        "!pip install voila\n",
        "!jupyter serverextension enable --sys-prefix voila "
      ],
      "execution_count": 3,
      "outputs": [
        {
          "output_type": "stream",
          "text": [
            "Requirement already satisfied: voila in /usr/local/lib/python3.7/dist-packages (0.2.10)\n",
            "Collecting nbconvert<7,>=6.0.0\n",
            "  Using cached https://files.pythonhosted.org/packages/fd/12/7b225ea00a5fe32df30b2c303dcc8c21c8db533ea7c0e38b4ac5a41bd8f0/nbconvert-6.1.0-py3-none-any.whl\n",
            "Requirement already satisfied: jupyter-server<2.0.0,>=0.3.0 in /usr/local/lib/python3.7/dist-packages (from voila) (1.9.0)\n",
            "Requirement already satisfied: jupyter-client<7,>=6.1.3 in /usr/local/lib/python3.7/dist-packages (from voila) (6.1.12)\n",
            "Requirement already satisfied: nbclient<0.6,>=0.4.0 in /usr/local/lib/python3.7/dist-packages (from voila) (0.5.3)\n",
            "Requirement already satisfied: jinja2>=2.4 in /usr/local/lib/python3.7/dist-packages (from nbconvert<7,>=6.0.0->voila) (2.11.3)\n",
            "Requirement already satisfied: jupyterlab-pygments in /usr/local/lib/python3.7/dist-packages (from nbconvert<7,>=6.0.0->voila) (0.1.2)\n",
            "Requirement already satisfied: nbformat>=4.4 in /usr/local/lib/python3.7/dist-packages (from nbconvert<7,>=6.0.0->voila) (5.1.3)\n",
            "Requirement already satisfied: bleach in /usr/local/lib/python3.7/dist-packages (from nbconvert<7,>=6.0.0->voila) (3.3.0)\n",
            "Requirement already satisfied: entrypoints>=0.2.2 in /usr/local/lib/python3.7/dist-packages (from nbconvert<7,>=6.0.0->voila) (0.3)\n",
            "Requirement already satisfied: defusedxml in /usr/local/lib/python3.7/dist-packages (from nbconvert<7,>=6.0.0->voila) (0.7.1)\n",
            "Requirement already satisfied: traitlets>=5.0 in /usr/local/lib/python3.7/dist-packages (from nbconvert<7,>=6.0.0->voila) (5.0.5)\n",
            "Requirement already satisfied: pandocfilters>=1.4.1 in /usr/local/lib/python3.7/dist-packages (from nbconvert<7,>=6.0.0->voila) (1.4.3)\n",
            "Requirement already satisfied: testpath in /usr/local/lib/python3.7/dist-packages (from nbconvert<7,>=6.0.0->voila) (0.5.0)\n",
            "Requirement already satisfied: jupyter-core in /usr/local/lib/python3.7/dist-packages (from nbconvert<7,>=6.0.0->voila) (4.7.1)\n",
            "Requirement already satisfied: pygments>=2.4.1 in /usr/local/lib/python3.7/dist-packages (from nbconvert<7,>=6.0.0->voila) (2.6.1)\n",
            "Requirement already satisfied: mistune<2,>=0.8.1 in /usr/local/lib/python3.7/dist-packages (from nbconvert<7,>=6.0.0->voila) (0.8.4)\n",
            "Requirement already satisfied: argon2-cffi in /usr/local/lib/python3.7/dist-packages (from jupyter-server<2.0.0,>=0.3.0->voila) (20.1.0)\n",
            "Requirement already satisfied: anyio<4,>=3.1.0 in /usr/local/lib/python3.7/dist-packages (from jupyter-server<2.0.0,>=0.3.0->voila) (3.2.1)\n",
            "Collecting tornado>=6.1.0\n",
            "\u001b[?25l  Downloading https://files.pythonhosted.org/packages/91/a8/9c5902233fa3c2e6a889cbd164333ddda5009669f494e3fadbeee2c03af5/tornado-6.1-cp37-cp37m-manylinux2010_x86_64.whl (428kB)\n",
            "\u001b[K     |████████████████████████████████| 430kB 33.4MB/s \n",
            "\u001b[?25hRequirement already satisfied: Send2Trash in /usr/local/lib/python3.7/dist-packages (from jupyter-server<2.0.0,>=0.3.0->voila) (1.7.1)\n",
            "Requirement already satisfied: terminado>=0.8.3 in /usr/local/lib/python3.7/dist-packages (from jupyter-server<2.0.0,>=0.3.0->voila) (0.10.1)\n",
            "Requirement already satisfied: websocket-client in /usr/local/lib/python3.7/dist-packages (from jupyter-server<2.0.0,>=0.3.0->voila) (1.1.0)\n",
            "Requirement already satisfied: ipython-genutils in /usr/local/lib/python3.7/dist-packages (from jupyter-server<2.0.0,>=0.3.0->voila) (0.2.0)\n",
            "Requirement already satisfied: requests-unixsocket in /usr/local/lib/python3.7/dist-packages (from jupyter-server<2.0.0,>=0.3.0->voila) (0.2.0)\n",
            "Requirement already satisfied: pyzmq>=17 in /usr/local/lib/python3.7/dist-packages (from jupyter-server<2.0.0,>=0.3.0->voila) (22.1.0)\n",
            "Requirement already satisfied: prometheus-client in /usr/local/lib/python3.7/dist-packages (from jupyter-server<2.0.0,>=0.3.0->voila) (0.11.0)\n",
            "Requirement already satisfied: python-dateutil>=2.1 in /usr/local/lib/python3.7/dist-packages (from jupyter-client<7,>=6.1.3->voila) (2.8.1)\n",
            "Requirement already satisfied: nest-asyncio in /usr/local/lib/python3.7/dist-packages (from nbclient<0.6,>=0.4.0->voila) (1.5.1)\n",
            "Requirement already satisfied: async-generator in /usr/local/lib/python3.7/dist-packages (from nbclient<0.6,>=0.4.0->voila) (1.10)\n",
            "Requirement already satisfied: MarkupSafe>=0.23 in /usr/local/lib/python3.7/dist-packages (from jinja2>=2.4->nbconvert<7,>=6.0.0->voila) (2.0.1)\n",
            "Requirement already satisfied: jsonschema!=2.5.0,>=2.4 in /usr/local/lib/python3.7/dist-packages (from nbformat>=4.4->nbconvert<7,>=6.0.0->voila) (2.6.0)\n",
            "Requirement already satisfied: six>=1.9.0 in /usr/local/lib/python3.7/dist-packages (from bleach->nbconvert<7,>=6.0.0->voila) (1.15.0)\n",
            "Requirement already satisfied: webencodings in /usr/local/lib/python3.7/dist-packages (from bleach->nbconvert<7,>=6.0.0->voila) (0.5.1)\n",
            "Requirement already satisfied: packaging in /usr/local/lib/python3.7/dist-packages (from bleach->nbconvert<7,>=6.0.0->voila) (20.9)\n",
            "Requirement already satisfied: cffi>=1.0.0 in /usr/local/lib/python3.7/dist-packages (from argon2-cffi->jupyter-server<2.0.0,>=0.3.0->voila) (1.14.5)\n",
            "Requirement already satisfied: idna>=2.8 in /usr/local/lib/python3.7/dist-packages (from anyio<4,>=3.1.0->jupyter-server<2.0.0,>=0.3.0->voila) (2.10)\n",
            "Requirement already satisfied: sniffio>=1.1 in /usr/local/lib/python3.7/dist-packages (from anyio<4,>=3.1.0->jupyter-server<2.0.0,>=0.3.0->voila) (1.2.0)\n",
            "Requirement already satisfied: typing-extensions; python_version < \"3.8\" in /usr/local/lib/python3.7/dist-packages (from anyio<4,>=3.1.0->jupyter-server<2.0.0,>=0.3.0->voila) (3.7.4.3)\n",
            "Requirement already satisfied: ptyprocess; os_name != \"nt\" in /usr/local/lib/python3.7/dist-packages (from terminado>=0.8.3->jupyter-server<2.0.0,>=0.3.0->voila) (0.7.0)\n",
            "Requirement already satisfied: urllib3>=1.8 in /usr/local/lib/python3.7/dist-packages (from requests-unixsocket->jupyter-server<2.0.0,>=0.3.0->voila) (1.24.3)\n",
            "Requirement already satisfied: requests>=1.1 in /usr/local/lib/python3.7/dist-packages (from requests-unixsocket->jupyter-server<2.0.0,>=0.3.0->voila) (2.23.0)\n",
            "Requirement already satisfied: pyparsing>=2.0.2 in /usr/local/lib/python3.7/dist-packages (from packaging->bleach->nbconvert<7,>=6.0.0->voila) (2.4.7)\n",
            "Requirement already satisfied: pycparser in /usr/local/lib/python3.7/dist-packages (from cffi>=1.0.0->argon2-cffi->jupyter-server<2.0.0,>=0.3.0->voila) (2.20)\n",
            "Requirement already satisfied: chardet<4,>=3.0.2 in /usr/local/lib/python3.7/dist-packages (from requests>=1.1->requests-unixsocket->jupyter-server<2.0.0,>=0.3.0->voila) (3.0.4)\n",
            "Requirement already satisfied: certifi>=2017.4.17 in /usr/local/lib/python3.7/dist-packages (from requests>=1.1->requests-unixsocket->jupyter-server<2.0.0,>=0.3.0->voila) (2021.5.30)\n",
            "\u001b[31mERROR: nbdev 1.1.14 has requirement nbconvert<6, but you'll have nbconvert 6.1.0 which is incompatible.\u001b[0m\n",
            "\u001b[31mERROR: google-colab 1.0.0 has requirement tornado~=5.1.0; python_version >= \"3.0\", but you'll have tornado 6.1 which is incompatible.\u001b[0m\n",
            "Installing collected packages: nbconvert, tornado\n",
            "  Found existing installation: nbconvert 5.6.1\n",
            "    Uninstalling nbconvert-5.6.1:\n",
            "      Successfully uninstalled nbconvert-5.6.1\n",
            "  Found existing installation: tornado 5.1.1\n",
            "    Uninstalling tornado-5.1.1:\n",
            "      Successfully uninstalled tornado-5.1.1\n",
            "Successfully installed nbconvert-6.1.0 tornado-6.1\n"
          ],
          "name": "stdout"
        },
        {
          "output_type": "display_data",
          "data": {
            "application/vnd.colab-display-data+json": {
              "pip_warning": {
                "packages": [
                  "nbconvert",
                  "tornado"
                ]
              }
            }
          },
          "metadata": {
            "tags": []
          }
        },
        {
          "output_type": "stream",
          "text": [
            "Enabling: voila\n",
            "- Writing config: /usr/etc/jupyter\n",
            "    - Validating...\n",
            "Error loading server extension voila\n",
            "     \u001b[31m X\u001b[0m is voila importable?\n"
          ],
          "name": "stdout"
        }
      ]
    },
    {
      "cell_type": "code",
      "metadata": {
        "colab": {
          "base_uri": "https://localhost:8080/",
          "height": 286,
          "referenced_widgets": [
            "4e28d1ed90a64380ae301548d8221143",
            "72e3116ac2ce4693ba3652889056264d",
            "d3e155dbd3034ed5bdd9b36dd920cf0c",
            "02681eb01cda4ca6b54166b3a2dfeb71",
            "2d6c58c0b1284865ad3343eadf41087c",
            "b65d8324155d41a391897ffa849f3eb4",
            "792b08bddc7046f9a8b19e5d5fa36a24",
            "9ba3c0b4c8ae498c987b9cfae3de75b5",
            "b45c23de30a04f7f89db04570ecbdc12",
            "30bf762f7c4d4dcc93611446249be4bc",
            "4012ca9080314e03b0ac5426a5776b25",
            "1a0c3d74eaa94a82a3301c547bdf3480",
            "c22ff3627d054eadaf7e35fb7d351294",
            "574cd0e2ba0c471b9c12be07cda38539",
            "76ba3efee21344deaf47c5bc0d4956b2",
            "4aa8d0e5376a43298b533f2b15b10c5f"
          ]
        },
        "id": "kH9e4DCyMAxm",
        "outputId": "f502283a-5de4-45c7-a29a-43b72b0ef066"
      },
      "source": [
        "path = Path()\n",
        "learn_inf = load_learner(path/'export.pkl')\n",
        "btn_run = widgets.Button(description='Classify')\n",
        "btn_upload = widgets.FileUpload()\n",
        "out_pl = widgets.Output()\n",
        "lbl_pred = widgets.Label()\n",
        "\n",
        "out_pl.clear_output()\n",
        "\n",
        "def on_click_classify(change):\n",
        "    img = PILImage.create(btn_upload.data[-1])\n",
        "    out_pl.clear_output()\n",
        "    with out_pl: display(img.to_thumb(128,128))\n",
        "    pred,pred_idx,probs = learn_inf.predict(img)\n",
        "    lbl_pred.value = f'Prediction: {pred}; Probability: {probs[pred_idx]:.04f}'\n",
        "\n",
        "btn_run.on_click(on_click_classify)\n",
        "with out_pl: display(img.to_thumb(128,128))\n",
        "VBox([widgets.Label('Select your bear!'), btn_upload, btn_run, out_pl, lbl_pred])"
      ],
      "execution_count": 3,
      "outputs": [
        {
          "output_type": "display_data",
          "data": {
            "application/vnd.jupyter.widget-view+json": {
              "model_id": "4e28d1ed90a64380ae301548d8221143",
              "version_minor": 0,
              "version_major": 2
            },
            "text/plain": [
              "VBox(children=(Label(value='Select your bear!'), FileUpload(value={}, description='Upload'), Button(descriptio…"
            ]
          },
          "metadata": {
            "tags": []
          }
        },
        {
          "output_type": "display_data",
          "data": {
            "text/html": [
              ""
            ],
            "text/plain": [
              "<IPython.core.display.HTML object>"
            ]
          },
          "metadata": {
            "tags": []
          }
        },
        {
          "output_type": "stream",
          "text": [
            "/usr/local/lib/python3.7/dist-packages/torch/nn/functional.py:718: UserWarning: Named tensors and all their associated APIs are an experimental feature and subject to change. Please do not use them for anything important until they are released as stable. (Triggered internally at  /pytorch/c10/core/TensorImpl.h:1156.)\n",
            "  return torch.max_pool2d(input, kernel_size, stride, padding, dilation, ceil_mode)\n"
          ],
          "name": "stderr"
        }
      ]
    }
  ]
}